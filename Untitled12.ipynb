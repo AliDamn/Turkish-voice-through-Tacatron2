{
  "nbformat": 4,
  "nbformat_minor": 0,
  "metadata": {
    "colab": {
      "provenance": [],
      "authorship_tag": "ABX9TyM3oze6B6zv88CvpJEzoyF3",
      "include_colab_link": true
    },
    "kernelspec": {
      "name": "python3",
      "display_name": "Python 3"
    },
    "language_info": {
      "name": "python"
    },
    "widgets": {
      "application/vnd.jupyter.widget-state+json": {
        "2c8a563056094b3198b20e6bb36688cf": {
          "model_module": "@jupyter-widgets/controls",
          "model_name": "VBoxModel",
          "model_module_version": "1.5.0",
          "state": {
            "_dom_classes": [],
            "_model_module": "@jupyter-widgets/controls",
            "_model_module_version": "1.5.0",
            "_model_name": "VBoxModel",
            "_view_count": null,
            "_view_module": "@jupyter-widgets/controls",
            "_view_module_version": "1.5.0",
            "_view_name": "VBoxView",
            "box_style": "",
            "children": [],
            "layout": "IPY_MODEL_406b16cade504ea99fe7cb97e062bc07"
          }
        },
        "d98b65abd7c646fda041a814632159e1": {
          "model_module": "@jupyter-widgets/controls",
          "model_name": "HTMLModel",
          "model_module_version": "1.5.0",
          "state": {
            "_dom_classes": [],
            "_model_module": "@jupyter-widgets/controls",
            "_model_module_version": "1.5.0",
            "_model_name": "HTMLModel",
            "_view_count": null,
            "_view_module": "@jupyter-widgets/controls",
            "_view_module_version": "1.5.0",
            "_view_name": "HTMLView",
            "description": "",
            "description_tooltip": null,
            "layout": "IPY_MODEL_bb22eb7a884245288f32e73824179a2d",
            "placeholder": "​",
            "style": "IPY_MODEL_a28935050e954ac88f0bfe814e0e361b",
            "value": "<center> <img\nsrc=https://huggingface.co/front/assets/huggingface_logo-noborder.svg\nalt='Hugging Face'> <br> Copy a token from <a\nhref=\"https://huggingface.co/settings/tokens\" target=\"_blank\">your Hugging Face\ntokens page</a> and paste it below. <br> Immediately click login after copying\nyour token or it might be stored in plain text in this notebook file. </center>"
          }
        },
        "81ae59b3ab25400c951f4cc891ce0ac2": {
          "model_module": "@jupyter-widgets/controls",
          "model_name": "PasswordModel",
          "model_module_version": "1.5.0",
          "state": {
            "_dom_classes": [],
            "_model_module": "@jupyter-widgets/controls",
            "_model_module_version": "1.5.0",
            "_model_name": "PasswordModel",
            "_view_count": null,
            "_view_module": "@jupyter-widgets/controls",
            "_view_module_version": "1.5.0",
            "_view_name": "PasswordView",
            "continuous_update": true,
            "description": "Token:",
            "description_tooltip": null,
            "disabled": false,
            "layout": "IPY_MODEL_f81123cee78b459181708eb6f3d72667",
            "placeholder": "​",
            "style": "IPY_MODEL_db725489bfab450d860c70a5d616d1e8",
            "value": ""
          }
        },
        "cf1b4a698bad459abe195029cb8568f1": {
          "model_module": "@jupyter-widgets/controls",
          "model_name": "CheckboxModel",
          "model_module_version": "1.5.0",
          "state": {
            "_dom_classes": [],
            "_model_module": "@jupyter-widgets/controls",
            "_model_module_version": "1.5.0",
            "_model_name": "CheckboxModel",
            "_view_count": null,
            "_view_module": "@jupyter-widgets/controls",
            "_view_module_version": "1.5.0",
            "_view_name": "CheckboxView",
            "description": "Add token as git credential?",
            "description_tooltip": null,
            "disabled": false,
            "indent": true,
            "layout": "IPY_MODEL_238f6e8a9382473b99914dd5cdf407b4",
            "style": "IPY_MODEL_39aa7c3e1da84bea9227b674f5f07edf",
            "value": true
          }
        },
        "c31069cd910343ad9953dad67bd83fa3": {
          "model_module": "@jupyter-widgets/controls",
          "model_name": "ButtonModel",
          "model_module_version": "1.5.0",
          "state": {
            "_dom_classes": [],
            "_model_module": "@jupyter-widgets/controls",
            "_model_module_version": "1.5.0",
            "_model_name": "ButtonModel",
            "_view_count": null,
            "_view_module": "@jupyter-widgets/controls",
            "_view_module_version": "1.5.0",
            "_view_name": "ButtonView",
            "button_style": "",
            "description": "Login",
            "disabled": false,
            "icon": "",
            "layout": "IPY_MODEL_1f15a753fa934ca5af5798f2fe9f89a3",
            "style": "IPY_MODEL_73ffb93c291949a58fbc21465b32a8f3",
            "tooltip": ""
          }
        },
        "662a795d15224fce8e1ef4895bcc18ae": {
          "model_module": "@jupyter-widgets/controls",
          "model_name": "HTMLModel",
          "model_module_version": "1.5.0",
          "state": {
            "_dom_classes": [],
            "_model_module": "@jupyter-widgets/controls",
            "_model_module_version": "1.5.0",
            "_model_name": "HTMLModel",
            "_view_count": null,
            "_view_module": "@jupyter-widgets/controls",
            "_view_module_version": "1.5.0",
            "_view_name": "HTMLView",
            "description": "",
            "description_tooltip": null,
            "layout": "IPY_MODEL_692aed1e9cd04a5ab6a1c0d99acfa70d",
            "placeholder": "​",
            "style": "IPY_MODEL_da7d6929a80b418590723737444cfe87",
            "value": "\n<b>Pro Tip:</b> If you don't already have one, you can create a dedicated\n'notebooks' token with 'write' access, that you can then easily reuse for all\nnotebooks. </center>"
          }
        },
        "406b16cade504ea99fe7cb97e062bc07": {
          "model_module": "@jupyter-widgets/base",
          "model_name": "LayoutModel",
          "model_module_version": "1.2.0",
          "state": {
            "_model_module": "@jupyter-widgets/base",
            "_model_module_version": "1.2.0",
            "_model_name": "LayoutModel",
            "_view_count": null,
            "_view_module": "@jupyter-widgets/base",
            "_view_module_version": "1.2.0",
            "_view_name": "LayoutView",
            "align_content": null,
            "align_items": "center",
            "align_self": null,
            "border": null,
            "bottom": null,
            "display": "flex",
            "flex": null,
            "flex_flow": "column",
            "grid_area": null,
            "grid_auto_columns": null,
            "grid_auto_flow": null,
            "grid_auto_rows": null,
            "grid_column": null,
            "grid_gap": null,
            "grid_row": null,
            "grid_template_areas": null,
            "grid_template_columns": null,
            "grid_template_rows": null,
            "height": null,
            "justify_content": null,
            "justify_items": null,
            "left": null,
            "margin": null,
            "max_height": null,
            "max_width": null,
            "min_height": null,
            "min_width": null,
            "object_fit": null,
            "object_position": null,
            "order": null,
            "overflow": null,
            "overflow_x": null,
            "overflow_y": null,
            "padding": null,
            "right": null,
            "top": null,
            "visibility": null,
            "width": "50%"
          }
        },
        "bb22eb7a884245288f32e73824179a2d": {
          "model_module": "@jupyter-widgets/base",
          "model_name": "LayoutModel",
          "model_module_version": "1.2.0",
          "state": {
            "_model_module": "@jupyter-widgets/base",
            "_model_module_version": "1.2.0",
            "_model_name": "LayoutModel",
            "_view_count": null,
            "_view_module": "@jupyter-widgets/base",
            "_view_module_version": "1.2.0",
            "_view_name": "LayoutView",
            "align_content": null,
            "align_items": null,
            "align_self": null,
            "border": null,
            "bottom": null,
            "display": null,
            "flex": null,
            "flex_flow": null,
            "grid_area": null,
            "grid_auto_columns": null,
            "grid_auto_flow": null,
            "grid_auto_rows": null,
            "grid_column": null,
            "grid_gap": null,
            "grid_row": null,
            "grid_template_areas": null,
            "grid_template_columns": null,
            "grid_template_rows": null,
            "height": null,
            "justify_content": null,
            "justify_items": null,
            "left": null,
            "margin": null,
            "max_height": null,
            "max_width": null,
            "min_height": null,
            "min_width": null,
            "object_fit": null,
            "object_position": null,
            "order": null,
            "overflow": null,
            "overflow_x": null,
            "overflow_y": null,
            "padding": null,
            "right": null,
            "top": null,
            "visibility": null,
            "width": null
          }
        },
        "a28935050e954ac88f0bfe814e0e361b": {
          "model_module": "@jupyter-widgets/controls",
          "model_name": "DescriptionStyleModel",
          "model_module_version": "1.5.0",
          "state": {
            "_model_module": "@jupyter-widgets/controls",
            "_model_module_version": "1.5.0",
            "_model_name": "DescriptionStyleModel",
            "_view_count": null,
            "_view_module": "@jupyter-widgets/base",
            "_view_module_version": "1.2.0",
            "_view_name": "StyleView",
            "description_width": ""
          }
        },
        "f81123cee78b459181708eb6f3d72667": {
          "model_module": "@jupyter-widgets/base",
          "model_name": "LayoutModel",
          "model_module_version": "1.2.0",
          "state": {
            "_model_module": "@jupyter-widgets/base",
            "_model_module_version": "1.2.0",
            "_model_name": "LayoutModel",
            "_view_count": null,
            "_view_module": "@jupyter-widgets/base",
            "_view_module_version": "1.2.0",
            "_view_name": "LayoutView",
            "align_content": null,
            "align_items": null,
            "align_self": null,
            "border": null,
            "bottom": null,
            "display": null,
            "flex": null,
            "flex_flow": null,
            "grid_area": null,
            "grid_auto_columns": null,
            "grid_auto_flow": null,
            "grid_auto_rows": null,
            "grid_column": null,
            "grid_gap": null,
            "grid_row": null,
            "grid_template_areas": null,
            "grid_template_columns": null,
            "grid_template_rows": null,
            "height": null,
            "justify_content": null,
            "justify_items": null,
            "left": null,
            "margin": null,
            "max_height": null,
            "max_width": null,
            "min_height": null,
            "min_width": null,
            "object_fit": null,
            "object_position": null,
            "order": null,
            "overflow": null,
            "overflow_x": null,
            "overflow_y": null,
            "padding": null,
            "right": null,
            "top": null,
            "visibility": null,
            "width": null
          }
        },
        "db725489bfab450d860c70a5d616d1e8": {
          "model_module": "@jupyter-widgets/controls",
          "model_name": "DescriptionStyleModel",
          "model_module_version": "1.5.0",
          "state": {
            "_model_module": "@jupyter-widgets/controls",
            "_model_module_version": "1.5.0",
            "_model_name": "DescriptionStyleModel",
            "_view_count": null,
            "_view_module": "@jupyter-widgets/base",
            "_view_module_version": "1.2.0",
            "_view_name": "StyleView",
            "description_width": ""
          }
        },
        "238f6e8a9382473b99914dd5cdf407b4": {
          "model_module": "@jupyter-widgets/base",
          "model_name": "LayoutModel",
          "model_module_version": "1.2.0",
          "state": {
            "_model_module": "@jupyter-widgets/base",
            "_model_module_version": "1.2.0",
            "_model_name": "LayoutModel",
            "_view_count": null,
            "_view_module": "@jupyter-widgets/base",
            "_view_module_version": "1.2.0",
            "_view_name": "LayoutView",
            "align_content": null,
            "align_items": null,
            "align_self": null,
            "border": null,
            "bottom": null,
            "display": null,
            "flex": null,
            "flex_flow": null,
            "grid_area": null,
            "grid_auto_columns": null,
            "grid_auto_flow": null,
            "grid_auto_rows": null,
            "grid_column": null,
            "grid_gap": null,
            "grid_row": null,
            "grid_template_areas": null,
            "grid_template_columns": null,
            "grid_template_rows": null,
            "height": null,
            "justify_content": null,
            "justify_items": null,
            "left": null,
            "margin": null,
            "max_height": null,
            "max_width": null,
            "min_height": null,
            "min_width": null,
            "object_fit": null,
            "object_position": null,
            "order": null,
            "overflow": null,
            "overflow_x": null,
            "overflow_y": null,
            "padding": null,
            "right": null,
            "top": null,
            "visibility": null,
            "width": null
          }
        },
        "39aa7c3e1da84bea9227b674f5f07edf": {
          "model_module": "@jupyter-widgets/controls",
          "model_name": "DescriptionStyleModel",
          "model_module_version": "1.5.0",
          "state": {
            "_model_module": "@jupyter-widgets/controls",
            "_model_module_version": "1.5.0",
            "_model_name": "DescriptionStyleModel",
            "_view_count": null,
            "_view_module": "@jupyter-widgets/base",
            "_view_module_version": "1.2.0",
            "_view_name": "StyleView",
            "description_width": ""
          }
        },
        "1f15a753fa934ca5af5798f2fe9f89a3": {
          "model_module": "@jupyter-widgets/base",
          "model_name": "LayoutModel",
          "model_module_version": "1.2.0",
          "state": {
            "_model_module": "@jupyter-widgets/base",
            "_model_module_version": "1.2.0",
            "_model_name": "LayoutModel",
            "_view_count": null,
            "_view_module": "@jupyter-widgets/base",
            "_view_module_version": "1.2.0",
            "_view_name": "LayoutView",
            "align_content": null,
            "align_items": null,
            "align_self": null,
            "border": null,
            "bottom": null,
            "display": null,
            "flex": null,
            "flex_flow": null,
            "grid_area": null,
            "grid_auto_columns": null,
            "grid_auto_flow": null,
            "grid_auto_rows": null,
            "grid_column": null,
            "grid_gap": null,
            "grid_row": null,
            "grid_template_areas": null,
            "grid_template_columns": null,
            "grid_template_rows": null,
            "height": null,
            "justify_content": null,
            "justify_items": null,
            "left": null,
            "margin": null,
            "max_height": null,
            "max_width": null,
            "min_height": null,
            "min_width": null,
            "object_fit": null,
            "object_position": null,
            "order": null,
            "overflow": null,
            "overflow_x": null,
            "overflow_y": null,
            "padding": null,
            "right": null,
            "top": null,
            "visibility": null,
            "width": null
          }
        },
        "73ffb93c291949a58fbc21465b32a8f3": {
          "model_module": "@jupyter-widgets/controls",
          "model_name": "ButtonStyleModel",
          "model_module_version": "1.5.0",
          "state": {
            "_model_module": "@jupyter-widgets/controls",
            "_model_module_version": "1.5.0",
            "_model_name": "ButtonStyleModel",
            "_view_count": null,
            "_view_module": "@jupyter-widgets/base",
            "_view_module_version": "1.2.0",
            "_view_name": "StyleView",
            "button_color": null,
            "font_weight": ""
          }
        },
        "692aed1e9cd04a5ab6a1c0d99acfa70d": {
          "model_module": "@jupyter-widgets/base",
          "model_name": "LayoutModel",
          "model_module_version": "1.2.0",
          "state": {
            "_model_module": "@jupyter-widgets/base",
            "_model_module_version": "1.2.0",
            "_model_name": "LayoutModel",
            "_view_count": null,
            "_view_module": "@jupyter-widgets/base",
            "_view_module_version": "1.2.0",
            "_view_name": "LayoutView",
            "align_content": null,
            "align_items": null,
            "align_self": null,
            "border": null,
            "bottom": null,
            "display": null,
            "flex": null,
            "flex_flow": null,
            "grid_area": null,
            "grid_auto_columns": null,
            "grid_auto_flow": null,
            "grid_auto_rows": null,
            "grid_column": null,
            "grid_gap": null,
            "grid_row": null,
            "grid_template_areas": null,
            "grid_template_columns": null,
            "grid_template_rows": null,
            "height": null,
            "justify_content": null,
            "justify_items": null,
            "left": null,
            "margin": null,
            "max_height": null,
            "max_width": null,
            "min_height": null,
            "min_width": null,
            "object_fit": null,
            "object_position": null,
            "order": null,
            "overflow": null,
            "overflow_x": null,
            "overflow_y": null,
            "padding": null,
            "right": null,
            "top": null,
            "visibility": null,
            "width": null
          }
        },
        "da7d6929a80b418590723737444cfe87": {
          "model_module": "@jupyter-widgets/controls",
          "model_name": "DescriptionStyleModel",
          "model_module_version": "1.5.0",
          "state": {
            "_model_module": "@jupyter-widgets/controls",
            "_model_module_version": "1.5.0",
            "_model_name": "DescriptionStyleModel",
            "_view_count": null,
            "_view_module": "@jupyter-widgets/base",
            "_view_module_version": "1.2.0",
            "_view_name": "StyleView",
            "description_width": ""
          }
        },
        "b02a77d987e24b0ab8e91a9f33c34eb6": {
          "model_module": "@jupyter-widgets/controls",
          "model_name": "LabelModel",
          "model_module_version": "1.5.0",
          "state": {
            "_dom_classes": [],
            "_model_module": "@jupyter-widgets/controls",
            "_model_module_version": "1.5.0",
            "_model_name": "LabelModel",
            "_view_count": null,
            "_view_module": "@jupyter-widgets/controls",
            "_view_module_version": "1.5.0",
            "_view_name": "LabelView",
            "description": "",
            "description_tooltip": null,
            "layout": "IPY_MODEL_d3e91b2079344938aec7c14a340136b9",
            "placeholder": "​",
            "style": "IPY_MODEL_9f904e16b1164367b4ea1598ee8728ad",
            "value": "Connecting..."
          }
        },
        "d3e91b2079344938aec7c14a340136b9": {
          "model_module": "@jupyter-widgets/base",
          "model_name": "LayoutModel",
          "model_module_version": "1.2.0",
          "state": {
            "_model_module": "@jupyter-widgets/base",
            "_model_module_version": "1.2.0",
            "_model_name": "LayoutModel",
            "_view_count": null,
            "_view_module": "@jupyter-widgets/base",
            "_view_module_version": "1.2.0",
            "_view_name": "LayoutView",
            "align_content": null,
            "align_items": null,
            "align_self": null,
            "border": null,
            "bottom": null,
            "display": null,
            "flex": null,
            "flex_flow": null,
            "grid_area": null,
            "grid_auto_columns": null,
            "grid_auto_flow": null,
            "grid_auto_rows": null,
            "grid_column": null,
            "grid_gap": null,
            "grid_row": null,
            "grid_template_areas": null,
            "grid_template_columns": null,
            "grid_template_rows": null,
            "height": null,
            "justify_content": null,
            "justify_items": null,
            "left": null,
            "margin": null,
            "max_height": null,
            "max_width": null,
            "min_height": null,
            "min_width": null,
            "object_fit": null,
            "object_position": null,
            "order": null,
            "overflow": null,
            "overflow_x": null,
            "overflow_y": null,
            "padding": null,
            "right": null,
            "top": null,
            "visibility": null,
            "width": null
          }
        },
        "9f904e16b1164367b4ea1598ee8728ad": {
          "model_module": "@jupyter-widgets/controls",
          "model_name": "DescriptionStyleModel",
          "model_module_version": "1.5.0",
          "state": {
            "_model_module": "@jupyter-widgets/controls",
            "_model_module_version": "1.5.0",
            "_model_name": "DescriptionStyleModel",
            "_view_count": null,
            "_view_module": "@jupyter-widgets/base",
            "_view_module_version": "1.2.0",
            "_view_name": "StyleView",
            "description_width": ""
          }
        },
        "1de715cc213345f08adcd3c76676ea13": {
          "model_module": "@jupyter-widgets/controls",
          "model_name": "HBoxModel",
          "model_module_version": "1.5.0",
          "state": {
            "_dom_classes": [],
            "_model_module": "@jupyter-widgets/controls",
            "_model_module_version": "1.5.0",
            "_model_name": "HBoxModel",
            "_view_count": null,
            "_view_module": "@jupyter-widgets/controls",
            "_view_module_version": "1.5.0",
            "_view_name": "HBoxView",
            "box_style": "",
            "children": [
              "IPY_MODEL_9137f15f2c7c4323b2878595115d42f6",
              "IPY_MODEL_1c4caf1626974f369893f86939a69473",
              "IPY_MODEL_a87a4cd610a54f2392130b567cbd9bc2"
            ],
            "layout": "IPY_MODEL_9388e014a15d43fd8c5b904ef655be00"
          }
        },
        "9137f15f2c7c4323b2878595115d42f6": {
          "model_module": "@jupyter-widgets/controls",
          "model_name": "HTMLModel",
          "model_module_version": "1.5.0",
          "state": {
            "_dom_classes": [],
            "_model_module": "@jupyter-widgets/controls",
            "_model_module_version": "1.5.0",
            "_model_name": "HTMLModel",
            "_view_count": null,
            "_view_module": "@jupyter-widgets/controls",
            "_view_module_version": "1.5.0",
            "_view_name": "HTMLView",
            "description": "",
            "description_tooltip": null,
            "layout": "IPY_MODEL_77cbc8b2227d4f45a9746bf8dd35d090",
            "placeholder": "​",
            "style": "IPY_MODEL_d090ca0fcebc4a2e81deb708c71de6e4",
            "value": "Map: 100%"
          }
        },
        "1c4caf1626974f369893f86939a69473": {
          "model_module": "@jupyter-widgets/controls",
          "model_name": "FloatProgressModel",
          "model_module_version": "1.5.0",
          "state": {
            "_dom_classes": [],
            "_model_module": "@jupyter-widgets/controls",
            "_model_module_version": "1.5.0",
            "_model_name": "FloatProgressModel",
            "_view_count": null,
            "_view_module": "@jupyter-widgets/controls",
            "_view_module_version": "1.5.0",
            "_view_name": "ProgressView",
            "bar_style": "success",
            "description": "",
            "description_tooltip": null,
            "layout": "IPY_MODEL_e5580ebd39e1496eac662affb73b70e9",
            "max": 8164,
            "min": 0,
            "orientation": "horizontal",
            "style": "IPY_MODEL_9e06fb4acb46407eb5c0138f29078f13",
            "value": 8164
          }
        },
        "a87a4cd610a54f2392130b567cbd9bc2": {
          "model_module": "@jupyter-widgets/controls",
          "model_name": "HTMLModel",
          "model_module_version": "1.5.0",
          "state": {
            "_dom_classes": [],
            "_model_module": "@jupyter-widgets/controls",
            "_model_module_version": "1.5.0",
            "_model_name": "HTMLModel",
            "_view_count": null,
            "_view_module": "@jupyter-widgets/controls",
            "_view_module_version": "1.5.0",
            "_view_name": "HTMLView",
            "description": "",
            "description_tooltip": null,
            "layout": "IPY_MODEL_f1c17b11ba384fe29acb0981449c35cc",
            "placeholder": "​",
            "style": "IPY_MODEL_25f7fa184d4647ae93ed85cc75ae341e",
            "value": " 8164/8164 [00:00&lt;00:00, 63566.34 examples/s]"
          }
        },
        "9388e014a15d43fd8c5b904ef655be00": {
          "model_module": "@jupyter-widgets/base",
          "model_name": "LayoutModel",
          "model_module_version": "1.2.0",
          "state": {
            "_model_module": "@jupyter-widgets/base",
            "_model_module_version": "1.2.0",
            "_model_name": "LayoutModel",
            "_view_count": null,
            "_view_module": "@jupyter-widgets/base",
            "_view_module_version": "1.2.0",
            "_view_name": "LayoutView",
            "align_content": null,
            "align_items": null,
            "align_self": null,
            "border": null,
            "bottom": null,
            "display": null,
            "flex": null,
            "flex_flow": null,
            "grid_area": null,
            "grid_auto_columns": null,
            "grid_auto_flow": null,
            "grid_auto_rows": null,
            "grid_column": null,
            "grid_gap": null,
            "grid_row": null,
            "grid_template_areas": null,
            "grid_template_columns": null,
            "grid_template_rows": null,
            "height": null,
            "justify_content": null,
            "justify_items": null,
            "left": null,
            "margin": null,
            "max_height": null,
            "max_width": null,
            "min_height": null,
            "min_width": null,
            "object_fit": null,
            "object_position": null,
            "order": null,
            "overflow": null,
            "overflow_x": null,
            "overflow_y": null,
            "padding": null,
            "right": null,
            "top": null,
            "visibility": null,
            "width": null
          }
        },
        "77cbc8b2227d4f45a9746bf8dd35d090": {
          "model_module": "@jupyter-widgets/base",
          "model_name": "LayoutModel",
          "model_module_version": "1.2.0",
          "state": {
            "_model_module": "@jupyter-widgets/base",
            "_model_module_version": "1.2.0",
            "_model_name": "LayoutModel",
            "_view_count": null,
            "_view_module": "@jupyter-widgets/base",
            "_view_module_version": "1.2.0",
            "_view_name": "LayoutView",
            "align_content": null,
            "align_items": null,
            "align_self": null,
            "border": null,
            "bottom": null,
            "display": null,
            "flex": null,
            "flex_flow": null,
            "grid_area": null,
            "grid_auto_columns": null,
            "grid_auto_flow": null,
            "grid_auto_rows": null,
            "grid_column": null,
            "grid_gap": null,
            "grid_row": null,
            "grid_template_areas": null,
            "grid_template_columns": null,
            "grid_template_rows": null,
            "height": null,
            "justify_content": null,
            "justify_items": null,
            "left": null,
            "margin": null,
            "max_height": null,
            "max_width": null,
            "min_height": null,
            "min_width": null,
            "object_fit": null,
            "object_position": null,
            "order": null,
            "overflow": null,
            "overflow_x": null,
            "overflow_y": null,
            "padding": null,
            "right": null,
            "top": null,
            "visibility": null,
            "width": null
          }
        },
        "d090ca0fcebc4a2e81deb708c71de6e4": {
          "model_module": "@jupyter-widgets/controls",
          "model_name": "DescriptionStyleModel",
          "model_module_version": "1.5.0",
          "state": {
            "_model_module": "@jupyter-widgets/controls",
            "_model_module_version": "1.5.0",
            "_model_name": "DescriptionStyleModel",
            "_view_count": null,
            "_view_module": "@jupyter-widgets/base",
            "_view_module_version": "1.2.0",
            "_view_name": "StyleView",
            "description_width": ""
          }
        },
        "e5580ebd39e1496eac662affb73b70e9": {
          "model_module": "@jupyter-widgets/base",
          "model_name": "LayoutModel",
          "model_module_version": "1.2.0",
          "state": {
            "_model_module": "@jupyter-widgets/base",
            "_model_module_version": "1.2.0",
            "_model_name": "LayoutModel",
            "_view_count": null,
            "_view_module": "@jupyter-widgets/base",
            "_view_module_version": "1.2.0",
            "_view_name": "LayoutView",
            "align_content": null,
            "align_items": null,
            "align_self": null,
            "border": null,
            "bottom": null,
            "display": null,
            "flex": null,
            "flex_flow": null,
            "grid_area": null,
            "grid_auto_columns": null,
            "grid_auto_flow": null,
            "grid_auto_rows": null,
            "grid_column": null,
            "grid_gap": null,
            "grid_row": null,
            "grid_template_areas": null,
            "grid_template_columns": null,
            "grid_template_rows": null,
            "height": null,
            "justify_content": null,
            "justify_items": null,
            "left": null,
            "margin": null,
            "max_height": null,
            "max_width": null,
            "min_height": null,
            "min_width": null,
            "object_fit": null,
            "object_position": null,
            "order": null,
            "overflow": null,
            "overflow_x": null,
            "overflow_y": null,
            "padding": null,
            "right": null,
            "top": null,
            "visibility": null,
            "width": null
          }
        },
        "9e06fb4acb46407eb5c0138f29078f13": {
          "model_module": "@jupyter-widgets/controls",
          "model_name": "ProgressStyleModel",
          "model_module_version": "1.5.0",
          "state": {
            "_model_module": "@jupyter-widgets/controls",
            "_model_module_version": "1.5.0",
            "_model_name": "ProgressStyleModel",
            "_view_count": null,
            "_view_module": "@jupyter-widgets/base",
            "_view_module_version": "1.2.0",
            "_view_name": "StyleView",
            "bar_color": null,
            "description_width": ""
          }
        },
        "f1c17b11ba384fe29acb0981449c35cc": {
          "model_module": "@jupyter-widgets/base",
          "model_name": "LayoutModel",
          "model_module_version": "1.2.0",
          "state": {
            "_model_module": "@jupyter-widgets/base",
            "_model_module_version": "1.2.0",
            "_model_name": "LayoutModel",
            "_view_count": null,
            "_view_module": "@jupyter-widgets/base",
            "_view_module_version": "1.2.0",
            "_view_name": "LayoutView",
            "align_content": null,
            "align_items": null,
            "align_self": null,
            "border": null,
            "bottom": null,
            "display": null,
            "flex": null,
            "flex_flow": null,
            "grid_area": null,
            "grid_auto_columns": null,
            "grid_auto_flow": null,
            "grid_auto_rows": null,
            "grid_column": null,
            "grid_gap": null,
            "grid_row": null,
            "grid_template_areas": null,
            "grid_template_columns": null,
            "grid_template_rows": null,
            "height": null,
            "justify_content": null,
            "justify_items": null,
            "left": null,
            "margin": null,
            "max_height": null,
            "max_width": null,
            "min_height": null,
            "min_width": null,
            "object_fit": null,
            "object_position": null,
            "order": null,
            "overflow": null,
            "overflow_x": null,
            "overflow_y": null,
            "padding": null,
            "right": null,
            "top": null,
            "visibility": null,
            "width": null
          }
        },
        "25f7fa184d4647ae93ed85cc75ae341e": {
          "model_module": "@jupyter-widgets/controls",
          "model_name": "DescriptionStyleModel",
          "model_module_version": "1.5.0",
          "state": {
            "_model_module": "@jupyter-widgets/controls",
            "_model_module_version": "1.5.0",
            "_model_name": "DescriptionStyleModel",
            "_view_count": null,
            "_view_module": "@jupyter-widgets/base",
            "_view_module_version": "1.2.0",
            "_view_name": "StyleView",
            "description_width": ""
          }
        },
        "45cef68c66c244d4b29df467230afff2": {
          "model_module": "@jupyter-widgets/controls",
          "model_name": "HBoxModel",
          "model_module_version": "1.5.0",
          "state": {
            "_dom_classes": [],
            "_model_module": "@jupyter-widgets/controls",
            "_model_module_version": "1.5.0",
            "_model_name": "HBoxModel",
            "_view_count": null,
            "_view_module": "@jupyter-widgets/controls",
            "_view_module_version": "1.5.0",
            "_view_name": "HBoxView",
            "box_style": "",
            "children": [
              "IPY_MODEL_6055ee83f94d4da99fc39206c47e3561",
              "IPY_MODEL_3a123a35c1ba4f6eb9612b683cb0e178",
              "IPY_MODEL_ad01a78851684726a39b7bd067473217"
            ],
            "layout": "IPY_MODEL_f97267739f5140388368669831ddaca5"
          }
        },
        "6055ee83f94d4da99fc39206c47e3561": {
          "model_module": "@jupyter-widgets/controls",
          "model_name": "HTMLModel",
          "model_module_version": "1.5.0",
          "state": {
            "_dom_classes": [],
            "_model_module": "@jupyter-widgets/controls",
            "_model_module_version": "1.5.0",
            "_model_name": "HTMLModel",
            "_view_count": null,
            "_view_module": "@jupyter-widgets/controls",
            "_view_module_version": "1.5.0",
            "_view_name": "HTMLView",
            "description": "",
            "description_tooltip": null,
            "layout": "IPY_MODEL_b4c7b59f629f48dbbfd619fa68320bc2",
            "placeholder": "​",
            "style": "IPY_MODEL_def3210141af489093c1e71fedb719b9",
            "value": "Map: 100%"
          }
        },
        "3a123a35c1ba4f6eb9612b683cb0e178": {
          "model_module": "@jupyter-widgets/controls",
          "model_name": "FloatProgressModel",
          "model_module_version": "1.5.0",
          "state": {
            "_dom_classes": [],
            "_model_module": "@jupyter-widgets/controls",
            "_model_module_version": "1.5.0",
            "_model_name": "FloatProgressModel",
            "_view_count": null,
            "_view_module": "@jupyter-widgets/controls",
            "_view_module_version": "1.5.0",
            "_view_name": "ProgressView",
            "bar_style": "success",
            "description": "",
            "description_tooltip": null,
            "layout": "IPY_MODEL_b1aab78860b04164b4609ea3f5568ee6",
            "max": 8164,
            "min": 0,
            "orientation": "horizontal",
            "style": "IPY_MODEL_f523f96229a743478d0d133f93de8811",
            "value": 8164
          }
        },
        "ad01a78851684726a39b7bd067473217": {
          "model_module": "@jupyter-widgets/controls",
          "model_name": "HTMLModel",
          "model_module_version": "1.5.0",
          "state": {
            "_dom_classes": [],
            "_model_module": "@jupyter-widgets/controls",
            "_model_module_version": "1.5.0",
            "_model_name": "HTMLModel",
            "_view_count": null,
            "_view_module": "@jupyter-widgets/controls",
            "_view_module_version": "1.5.0",
            "_view_name": "HTMLView",
            "description": "",
            "description_tooltip": null,
            "layout": "IPY_MODEL_d72f1be7e8d74ac3baefcc8bf5a9f424",
            "placeholder": "​",
            "style": "IPY_MODEL_6f46327d514f40fc81a191071a53c60b",
            "value": " 8164/8164 [00:03&lt;00:00, 2559.20 examples/s]"
          }
        },
        "f97267739f5140388368669831ddaca5": {
          "model_module": "@jupyter-widgets/base",
          "model_name": "LayoutModel",
          "model_module_version": "1.2.0",
          "state": {
            "_model_module": "@jupyter-widgets/base",
            "_model_module_version": "1.2.0",
            "_model_name": "LayoutModel",
            "_view_count": null,
            "_view_module": "@jupyter-widgets/base",
            "_view_module_version": "1.2.0",
            "_view_name": "LayoutView",
            "align_content": null,
            "align_items": null,
            "align_self": null,
            "border": null,
            "bottom": null,
            "display": null,
            "flex": null,
            "flex_flow": null,
            "grid_area": null,
            "grid_auto_columns": null,
            "grid_auto_flow": null,
            "grid_auto_rows": null,
            "grid_column": null,
            "grid_gap": null,
            "grid_row": null,
            "grid_template_areas": null,
            "grid_template_columns": null,
            "grid_template_rows": null,
            "height": null,
            "justify_content": null,
            "justify_items": null,
            "left": null,
            "margin": null,
            "max_height": null,
            "max_width": null,
            "min_height": null,
            "min_width": null,
            "object_fit": null,
            "object_position": null,
            "order": null,
            "overflow": null,
            "overflow_x": null,
            "overflow_y": null,
            "padding": null,
            "right": null,
            "top": null,
            "visibility": null,
            "width": null
          }
        },
        "b4c7b59f629f48dbbfd619fa68320bc2": {
          "model_module": "@jupyter-widgets/base",
          "model_name": "LayoutModel",
          "model_module_version": "1.2.0",
          "state": {
            "_model_module": "@jupyter-widgets/base",
            "_model_module_version": "1.2.0",
            "_model_name": "LayoutModel",
            "_view_count": null,
            "_view_module": "@jupyter-widgets/base",
            "_view_module_version": "1.2.0",
            "_view_name": "LayoutView",
            "align_content": null,
            "align_items": null,
            "align_self": null,
            "border": null,
            "bottom": null,
            "display": null,
            "flex": null,
            "flex_flow": null,
            "grid_area": null,
            "grid_auto_columns": null,
            "grid_auto_flow": null,
            "grid_auto_rows": null,
            "grid_column": null,
            "grid_gap": null,
            "grid_row": null,
            "grid_template_areas": null,
            "grid_template_columns": null,
            "grid_template_rows": null,
            "height": null,
            "justify_content": null,
            "justify_items": null,
            "left": null,
            "margin": null,
            "max_height": null,
            "max_width": null,
            "min_height": null,
            "min_width": null,
            "object_fit": null,
            "object_position": null,
            "order": null,
            "overflow": null,
            "overflow_x": null,
            "overflow_y": null,
            "padding": null,
            "right": null,
            "top": null,
            "visibility": null,
            "width": null
          }
        },
        "def3210141af489093c1e71fedb719b9": {
          "model_module": "@jupyter-widgets/controls",
          "model_name": "DescriptionStyleModel",
          "model_module_version": "1.5.0",
          "state": {
            "_model_module": "@jupyter-widgets/controls",
            "_model_module_version": "1.5.0",
            "_model_name": "DescriptionStyleModel",
            "_view_count": null,
            "_view_module": "@jupyter-widgets/base",
            "_view_module_version": "1.2.0",
            "_view_name": "StyleView",
            "description_width": ""
          }
        },
        "b1aab78860b04164b4609ea3f5568ee6": {
          "model_module": "@jupyter-widgets/base",
          "model_name": "LayoutModel",
          "model_module_version": "1.2.0",
          "state": {
            "_model_module": "@jupyter-widgets/base",
            "_model_module_version": "1.2.0",
            "_model_name": "LayoutModel",
            "_view_count": null,
            "_view_module": "@jupyter-widgets/base",
            "_view_module_version": "1.2.0",
            "_view_name": "LayoutView",
            "align_content": null,
            "align_items": null,
            "align_self": null,
            "border": null,
            "bottom": null,
            "display": null,
            "flex": null,
            "flex_flow": null,
            "grid_area": null,
            "grid_auto_columns": null,
            "grid_auto_flow": null,
            "grid_auto_rows": null,
            "grid_column": null,
            "grid_gap": null,
            "grid_row": null,
            "grid_template_areas": null,
            "grid_template_columns": null,
            "grid_template_rows": null,
            "height": null,
            "justify_content": null,
            "justify_items": null,
            "left": null,
            "margin": null,
            "max_height": null,
            "max_width": null,
            "min_height": null,
            "min_width": null,
            "object_fit": null,
            "object_position": null,
            "order": null,
            "overflow": null,
            "overflow_x": null,
            "overflow_y": null,
            "padding": null,
            "right": null,
            "top": null,
            "visibility": null,
            "width": null
          }
        },
        "f523f96229a743478d0d133f93de8811": {
          "model_module": "@jupyter-widgets/controls",
          "model_name": "ProgressStyleModel",
          "model_module_version": "1.5.0",
          "state": {
            "_model_module": "@jupyter-widgets/controls",
            "_model_module_version": "1.5.0",
            "_model_name": "ProgressStyleModel",
            "_view_count": null,
            "_view_module": "@jupyter-widgets/base",
            "_view_module_version": "1.2.0",
            "_view_name": "StyleView",
            "bar_color": null,
            "description_width": ""
          }
        },
        "d72f1be7e8d74ac3baefcc8bf5a9f424": {
          "model_module": "@jupyter-widgets/base",
          "model_name": "LayoutModel",
          "model_module_version": "1.2.0",
          "state": {
            "_model_module": "@jupyter-widgets/base",
            "_model_module_version": "1.2.0",
            "_model_name": "LayoutModel",
            "_view_count": null,
            "_view_module": "@jupyter-widgets/base",
            "_view_module_version": "1.2.0",
            "_view_name": "LayoutView",
            "align_content": null,
            "align_items": null,
            "align_self": null,
            "border": null,
            "bottom": null,
            "display": null,
            "flex": null,
            "flex_flow": null,
            "grid_area": null,
            "grid_auto_columns": null,
            "grid_auto_flow": null,
            "grid_auto_rows": null,
            "grid_column": null,
            "grid_gap": null,
            "grid_row": null,
            "grid_template_areas": null,
            "grid_template_columns": null,
            "grid_template_rows": null,
            "height": null,
            "justify_content": null,
            "justify_items": null,
            "left": null,
            "margin": null,
            "max_height": null,
            "max_width": null,
            "min_height": null,
            "min_width": null,
            "object_fit": null,
            "object_position": null,
            "order": null,
            "overflow": null,
            "overflow_x": null,
            "overflow_y": null,
            "padding": null,
            "right": null,
            "top": null,
            "visibility": null,
            "width": null
          }
        },
        "6f46327d514f40fc81a191071a53c60b": {
          "model_module": "@jupyter-widgets/controls",
          "model_name": "DescriptionStyleModel",
          "model_module_version": "1.5.0",
          "state": {
            "_model_module": "@jupyter-widgets/controls",
            "_model_module_version": "1.5.0",
            "_model_name": "DescriptionStyleModel",
            "_view_count": null,
            "_view_module": "@jupyter-widgets/base",
            "_view_module_version": "1.2.0",
            "_view_name": "StyleView",
            "description_width": ""
          }
        },
        "bfd96687a7154c63ab91d3b8276b76cd": {
          "model_module": "@jupyter-widgets/controls",
          "model_name": "HBoxModel",
          "model_module_version": "1.5.0",
          "state": {
            "_dom_classes": [],
            "_model_module": "@jupyter-widgets/controls",
            "_model_module_version": "1.5.0",
            "_model_name": "HBoxModel",
            "_view_count": null,
            "_view_module": "@jupyter-widgets/controls",
            "_view_module_version": "1.5.0",
            "_view_name": "HBoxView",
            "box_style": "",
            "children": [
              "IPY_MODEL_d04e8e8d3f53472a93168f904e619584",
              "IPY_MODEL_e79e97589fbd47e5a33476a1049dc20e",
              "IPY_MODEL_a460f9d3e3694cf2ada7c21407becc4a"
            ],
            "layout": "IPY_MODEL_eae261c28392445c81ecf97ab0397180"
          }
        },
        "d04e8e8d3f53472a93168f904e619584": {
          "model_module": "@jupyter-widgets/controls",
          "model_name": "HTMLModel",
          "model_module_version": "1.5.0",
          "state": {
            "_dom_classes": [],
            "_model_module": "@jupyter-widgets/controls",
            "_model_module_version": "1.5.0",
            "_model_name": "HTMLModel",
            "_view_count": null,
            "_view_module": "@jupyter-widgets/controls",
            "_view_module_version": "1.5.0",
            "_view_name": "HTMLView",
            "description": "",
            "description_tooltip": null,
            "layout": "IPY_MODEL_33356657163845338ec229648142cdc3",
            "placeholder": "​",
            "style": "IPY_MODEL_506cff8a0e7b4c5ea82c0c2e07f061b7",
            "value": "Map: 100%"
          }
        },
        "e79e97589fbd47e5a33476a1049dc20e": {
          "model_module": "@jupyter-widgets/controls",
          "model_name": "FloatProgressModel",
          "model_module_version": "1.5.0",
          "state": {
            "_dom_classes": [],
            "_model_module": "@jupyter-widgets/controls",
            "_model_module_version": "1.5.0",
            "_model_name": "FloatProgressModel",
            "_view_count": null,
            "_view_module": "@jupyter-widgets/controls",
            "_view_module_version": "1.5.0",
            "_view_name": "ProgressView",
            "bar_style": "success",
            "description": "",
            "description_tooltip": null,
            "layout": "IPY_MODEL_f1db57d020a04c1a937cc22eee1f1fdb",
            "max": 8164,
            "min": 0,
            "orientation": "horizontal",
            "style": "IPY_MODEL_dbce67fb2eb2426fa1fabe711cc7ce22",
            "value": 8164
          }
        },
        "a460f9d3e3694cf2ada7c21407becc4a": {
          "model_module": "@jupyter-widgets/controls",
          "model_name": "HTMLModel",
          "model_module_version": "1.5.0",
          "state": {
            "_dom_classes": [],
            "_model_module": "@jupyter-widgets/controls",
            "_model_module_version": "1.5.0",
            "_model_name": "HTMLModel",
            "_view_count": null,
            "_view_module": "@jupyter-widgets/controls",
            "_view_module_version": "1.5.0",
            "_view_name": "HTMLView",
            "description": "",
            "description_tooltip": null,
            "layout": "IPY_MODEL_de77349c214f4e6f8973de00b99fb89d",
            "placeholder": "​",
            "style": "IPY_MODEL_d49a51345b424531a3616635e54f9beb",
            "value": " 8164/8164 [00:01&lt;00:00, 5031.53 examples/s]"
          }
        },
        "eae261c28392445c81ecf97ab0397180": {
          "model_module": "@jupyter-widgets/base",
          "model_name": "LayoutModel",
          "model_module_version": "1.2.0",
          "state": {
            "_model_module": "@jupyter-widgets/base",
            "_model_module_version": "1.2.0",
            "_model_name": "LayoutModel",
            "_view_count": null,
            "_view_module": "@jupyter-widgets/base",
            "_view_module_version": "1.2.0",
            "_view_name": "LayoutView",
            "align_content": null,
            "align_items": null,
            "align_self": null,
            "border": null,
            "bottom": null,
            "display": null,
            "flex": null,
            "flex_flow": null,
            "grid_area": null,
            "grid_auto_columns": null,
            "grid_auto_flow": null,
            "grid_auto_rows": null,
            "grid_column": null,
            "grid_gap": null,
            "grid_row": null,
            "grid_template_areas": null,
            "grid_template_columns": null,
            "grid_template_rows": null,
            "height": null,
            "justify_content": null,
            "justify_items": null,
            "left": null,
            "margin": null,
            "max_height": null,
            "max_width": null,
            "min_height": null,
            "min_width": null,
            "object_fit": null,
            "object_position": null,
            "order": null,
            "overflow": null,
            "overflow_x": null,
            "overflow_y": null,
            "padding": null,
            "right": null,
            "top": null,
            "visibility": null,
            "width": null
          }
        },
        "33356657163845338ec229648142cdc3": {
          "model_module": "@jupyter-widgets/base",
          "model_name": "LayoutModel",
          "model_module_version": "1.2.0",
          "state": {
            "_model_module": "@jupyter-widgets/base",
            "_model_module_version": "1.2.0",
            "_model_name": "LayoutModel",
            "_view_count": null,
            "_view_module": "@jupyter-widgets/base",
            "_view_module_version": "1.2.0",
            "_view_name": "LayoutView",
            "align_content": null,
            "align_items": null,
            "align_self": null,
            "border": null,
            "bottom": null,
            "display": null,
            "flex": null,
            "flex_flow": null,
            "grid_area": null,
            "grid_auto_columns": null,
            "grid_auto_flow": null,
            "grid_auto_rows": null,
            "grid_column": null,
            "grid_gap": null,
            "grid_row": null,
            "grid_template_areas": null,
            "grid_template_columns": null,
            "grid_template_rows": null,
            "height": null,
            "justify_content": null,
            "justify_items": null,
            "left": null,
            "margin": null,
            "max_height": null,
            "max_width": null,
            "min_height": null,
            "min_width": null,
            "object_fit": null,
            "object_position": null,
            "order": null,
            "overflow": null,
            "overflow_x": null,
            "overflow_y": null,
            "padding": null,
            "right": null,
            "top": null,
            "visibility": null,
            "width": null
          }
        },
        "506cff8a0e7b4c5ea82c0c2e07f061b7": {
          "model_module": "@jupyter-widgets/controls",
          "model_name": "DescriptionStyleModel",
          "model_module_version": "1.5.0",
          "state": {
            "_model_module": "@jupyter-widgets/controls",
            "_model_module_version": "1.5.0",
            "_model_name": "DescriptionStyleModel",
            "_view_count": null,
            "_view_module": "@jupyter-widgets/base",
            "_view_module_version": "1.2.0",
            "_view_name": "StyleView",
            "description_width": ""
          }
        },
        "f1db57d020a04c1a937cc22eee1f1fdb": {
          "model_module": "@jupyter-widgets/base",
          "model_name": "LayoutModel",
          "model_module_version": "1.2.0",
          "state": {
            "_model_module": "@jupyter-widgets/base",
            "_model_module_version": "1.2.0",
            "_model_name": "LayoutModel",
            "_view_count": null,
            "_view_module": "@jupyter-widgets/base",
            "_view_module_version": "1.2.0",
            "_view_name": "LayoutView",
            "align_content": null,
            "align_items": null,
            "align_self": null,
            "border": null,
            "bottom": null,
            "display": null,
            "flex": null,
            "flex_flow": null,
            "grid_area": null,
            "grid_auto_columns": null,
            "grid_auto_flow": null,
            "grid_auto_rows": null,
            "grid_column": null,
            "grid_gap": null,
            "grid_row": null,
            "grid_template_areas": null,
            "grid_template_columns": null,
            "grid_template_rows": null,
            "height": null,
            "justify_content": null,
            "justify_items": null,
            "left": null,
            "margin": null,
            "max_height": null,
            "max_width": null,
            "min_height": null,
            "min_width": null,
            "object_fit": null,
            "object_position": null,
            "order": null,
            "overflow": null,
            "overflow_x": null,
            "overflow_y": null,
            "padding": null,
            "right": null,
            "top": null,
            "visibility": null,
            "width": null
          }
        },
        "dbce67fb2eb2426fa1fabe711cc7ce22": {
          "model_module": "@jupyter-widgets/controls",
          "model_name": "ProgressStyleModel",
          "model_module_version": "1.5.0",
          "state": {
            "_model_module": "@jupyter-widgets/controls",
            "_model_module_version": "1.5.0",
            "_model_name": "ProgressStyleModel",
            "_view_count": null,
            "_view_module": "@jupyter-widgets/base",
            "_view_module_version": "1.2.0",
            "_view_name": "StyleView",
            "bar_color": null,
            "description_width": ""
          }
        },
        "de77349c214f4e6f8973de00b99fb89d": {
          "model_module": "@jupyter-widgets/base",
          "model_name": "LayoutModel",
          "model_module_version": "1.2.0",
          "state": {
            "_model_module": "@jupyter-widgets/base",
            "_model_module_version": "1.2.0",
            "_model_name": "LayoutModel",
            "_view_count": null,
            "_view_module": "@jupyter-widgets/base",
            "_view_module_version": "1.2.0",
            "_view_name": "LayoutView",
            "align_content": null,
            "align_items": null,
            "align_self": null,
            "border": null,
            "bottom": null,
            "display": null,
            "flex": null,
            "flex_flow": null,
            "grid_area": null,
            "grid_auto_columns": null,
            "grid_auto_flow": null,
            "grid_auto_rows": null,
            "grid_column": null,
            "grid_gap": null,
            "grid_row": null,
            "grid_template_areas": null,
            "grid_template_columns": null,
            "grid_template_rows": null,
            "height": null,
            "justify_content": null,
            "justify_items": null,
            "left": null,
            "margin": null,
            "max_height": null,
            "max_width": null,
            "min_height": null,
            "min_width": null,
            "object_fit": null,
            "object_position": null,
            "order": null,
            "overflow": null,
            "overflow_x": null,
            "overflow_y": null,
            "padding": null,
            "right": null,
            "top": null,
            "visibility": null,
            "width": null
          }
        },
        "d49a51345b424531a3616635e54f9beb": {
          "model_module": "@jupyter-widgets/controls",
          "model_name": "DescriptionStyleModel",
          "model_module_version": "1.5.0",
          "state": {
            "_model_module": "@jupyter-widgets/controls",
            "_model_module_version": "1.5.0",
            "_model_name": "DescriptionStyleModel",
            "_view_count": null,
            "_view_module": "@jupyter-widgets/base",
            "_view_module_version": "1.2.0",
            "_view_name": "StyleView",
            "description_width": ""
          }
        }
      }
    }
  },
  "cells": [
    {
      "cell_type": "markdown",
      "metadata": {
        "id": "view-in-github",
        "colab_type": "text"
      },
      "source": [
        "<a href=\"https://colab.research.google.com/github/AliDamn/Turkish-voice-through-Tacatron2/blob/main/Untitled12.ipynb\" target=\"_parent\"><img src=\"https://colab.research.google.com/assets/colab-badge.svg\" alt=\"Open In Colab\"/></a>"
      ]
    },
    {
      "cell_type": "code",
      "execution_count": null,
      "metadata": {
        "colab": {
          "base_uri": "https://localhost:8080/"
        },
        "id": "I-dgxO5ZQU7O",
        "outputId": "387ffa13-5b4a-4e71-840d-b290bbcc5c9d"
      },
      "outputs": [
        {
          "output_type": "stream",
          "name": "stdout",
          "text": [
            "Collecting torch==2.3.0\n",
            "  Downloading torch-2.3.0-cp312-cp312-manylinux1_x86_64.whl.metadata (26 kB)\n",
            "Collecting torchaudio==2.3.0\n",
            "  Downloading torchaudio-2.3.0-cp312-cp312-manylinux1_x86_64.whl.metadata (6.4 kB)\n",
            "Requirement already satisfied: filelock in /usr/local/lib/python3.12/dist-packages (from torch==2.3.0) (3.19.1)\n",
            "Requirement already satisfied: typing-extensions>=4.8.0 in /usr/local/lib/python3.12/dist-packages (from torch==2.3.0) (4.15.0)\n",
            "Requirement already satisfied: sympy in /usr/local/lib/python3.12/dist-packages (from torch==2.3.0) (1.13.3)\n",
            "Requirement already satisfied: networkx in /usr/local/lib/python3.12/dist-packages (from torch==2.3.0) (3.5)\n",
            "Requirement already satisfied: jinja2 in /usr/local/lib/python3.12/dist-packages (from torch==2.3.0) (3.1.6)\n",
            "Requirement already satisfied: fsspec in /usr/local/lib/python3.12/dist-packages (from torch==2.3.0) (2025.3.0)\n",
            "Collecting nvidia-cuda-nvrtc-cu12==12.1.105 (from torch==2.3.0)\n",
            "  Downloading nvidia_cuda_nvrtc_cu12-12.1.105-py3-none-manylinux1_x86_64.whl.metadata (1.5 kB)\n",
            "Collecting nvidia-cuda-runtime-cu12==12.1.105 (from torch==2.3.0)\n",
            "  Downloading nvidia_cuda_runtime_cu12-12.1.105-py3-none-manylinux1_x86_64.whl.metadata (1.5 kB)\n",
            "Collecting nvidia-cuda-cupti-cu12==12.1.105 (from torch==2.3.0)\n",
            "  Downloading nvidia_cuda_cupti_cu12-12.1.105-py3-none-manylinux1_x86_64.whl.metadata (1.6 kB)\n",
            "Collecting nvidia-cudnn-cu12==8.9.2.26 (from torch==2.3.0)\n",
            "  Downloading nvidia_cudnn_cu12-8.9.2.26-py3-none-manylinux1_x86_64.whl.metadata (1.6 kB)\n",
            "Collecting nvidia-cublas-cu12==12.1.3.1 (from torch==2.3.0)\n",
            "  Downloading nvidia_cublas_cu12-12.1.3.1-py3-none-manylinux1_x86_64.whl.metadata (1.5 kB)\n",
            "Collecting nvidia-cufft-cu12==11.0.2.54 (from torch==2.3.0)\n",
            "  Downloading nvidia_cufft_cu12-11.0.2.54-py3-none-manylinux1_x86_64.whl.metadata (1.5 kB)\n",
            "Collecting nvidia-curand-cu12==10.3.2.106 (from torch==2.3.0)\n",
            "  Downloading nvidia_curand_cu12-10.3.2.106-py3-none-manylinux1_x86_64.whl.metadata (1.5 kB)\n",
            "Collecting nvidia-cusolver-cu12==11.4.5.107 (from torch==2.3.0)\n",
            "  Downloading nvidia_cusolver_cu12-11.4.5.107-py3-none-manylinux1_x86_64.whl.metadata (1.6 kB)\n",
            "Collecting nvidia-cusparse-cu12==12.1.0.106 (from torch==2.3.0)\n",
            "  Downloading nvidia_cusparse_cu12-12.1.0.106-py3-none-manylinux1_x86_64.whl.metadata (1.6 kB)\n",
            "Collecting nvidia-nccl-cu12==2.20.5 (from torch==2.3.0)\n",
            "  Downloading nvidia_nccl_cu12-2.20.5-py3-none-manylinux2014_x86_64.whl.metadata (1.8 kB)\n",
            "Collecting nvidia-nvtx-cu12==12.1.105 (from torch==2.3.0)\n",
            "  Downloading nvidia_nvtx_cu12-12.1.105-py3-none-manylinux1_x86_64.whl.metadata (1.7 kB)\n",
            "Requirement already satisfied: nvidia-nvjitlink-cu12 in /usr/local/lib/python3.12/dist-packages (from nvidia-cusolver-cu12==11.4.5.107->torch==2.3.0) (12.6.85)\n",
            "Requirement already satisfied: MarkupSafe>=2.0 in /usr/local/lib/python3.12/dist-packages (from jinja2->torch==2.3.0) (3.0.2)\n",
            "Requirement already satisfied: mpmath<1.4,>=1.1.0 in /usr/local/lib/python3.12/dist-packages (from sympy->torch==2.3.0) (1.3.0)\n",
            "Downloading torch-2.3.0-cp312-cp312-manylinux1_x86_64.whl (779.1 MB)\n",
            "\u001b[2K   \u001b[90m━━━━━━━━━━━━━━━━━━━━━━━━━━━━━━━━━━━━━━━\u001b[0m \u001b[32m779.1/779.1 MB\u001b[0m \u001b[31m916.9 kB/s\u001b[0m eta \u001b[36m0:00:00\u001b[0m\n",
            "\u001b[?25hDownloading torchaudio-2.3.0-cp312-cp312-manylinux1_x86_64.whl (3.4 MB)\n",
            "\u001b[2K   \u001b[90m━━━━━━━━━━━━━━━━━━━━━━━━━━━━━━━━━━━━━━━━\u001b[0m \u001b[32m3.4/3.4 MB\u001b[0m \u001b[31m57.9 MB/s\u001b[0m eta \u001b[36m0:00:00\u001b[0m\n",
            "\u001b[?25hDownloading nvidia_cublas_cu12-12.1.3.1-py3-none-manylinux1_x86_64.whl (410.6 MB)\n",
            "\u001b[2K   \u001b[90m━━━━━━━━━━━━━━━━━━━━━━━━━━━━━━━━━━━━━━━━\u001b[0m \u001b[32m410.6/410.6 MB\u001b[0m \u001b[31m1.4 MB/s\u001b[0m eta \u001b[36m0:00:00\u001b[0m\n",
            "\u001b[?25hDownloading nvidia_cuda_cupti_cu12-12.1.105-py3-none-manylinux1_x86_64.whl (14.1 MB)\n",
            "\u001b[2K   \u001b[90m━━━━━━━━━━━━━━━━━━━━━━━━━━━━━━━━━━━━━━━━\u001b[0m \u001b[32m14.1/14.1 MB\u001b[0m \u001b[31m98.5 MB/s\u001b[0m eta \u001b[36m0:00:00\u001b[0m\n",
            "\u001b[?25hDownloading nvidia_cuda_nvrtc_cu12-12.1.105-py3-none-manylinux1_x86_64.whl (23.7 MB)\n",
            "\u001b[2K   \u001b[90m━━━━━━━━━━━━━━━━━━━━━━━━━━━━━━━━━━━━━━━━\u001b[0m \u001b[32m23.7/23.7 MB\u001b[0m \u001b[31m85.3 MB/s\u001b[0m eta \u001b[36m0:00:00\u001b[0m\n",
            "\u001b[?25hDownloading nvidia_cuda_runtime_cu12-12.1.105-py3-none-manylinux1_x86_64.whl (823 kB)\n",
            "\u001b[2K   \u001b[90m━━━━━━━━━━━━━━━━━━━━━━━━━━━━━━━━━━━━━━━━\u001b[0m \u001b[32m823.6/823.6 kB\u001b[0m \u001b[31m47.5 MB/s\u001b[0m eta \u001b[36m0:00:00\u001b[0m\n",
            "\u001b[?25hDownloading nvidia_cudnn_cu12-8.9.2.26-py3-none-manylinux1_x86_64.whl (731.7 MB)\n",
            "\u001b[2K   \u001b[90m━━━━━━━━━━━━━━━━━━━━━━━━━━━━━━━━━━━━━━━━\u001b[0m \u001b[32m731.7/731.7 MB\u001b[0m \u001b[31m1.4 MB/s\u001b[0m eta \u001b[36m0:00:00\u001b[0m\n",
            "\u001b[?25hDownloading nvidia_cufft_cu12-11.0.2.54-py3-none-manylinux1_x86_64.whl (121.6 MB)\n",
            "\u001b[2K   \u001b[90m━━━━━━━━━━━━━━━━━━━━━━━━━━━━━━━━━━━━━━━━\u001b[0m \u001b[32m121.6/121.6 MB\u001b[0m \u001b[31m7.7 MB/s\u001b[0m eta \u001b[36m0:00:00\u001b[0m\n",
            "\u001b[?25hDownloading nvidia_curand_cu12-10.3.2.106-py3-none-manylinux1_x86_64.whl (56.5 MB)\n",
            "\u001b[2K   \u001b[90m━━━━━━━━━━━━━━━━━━━━━━━━━━━━━━━━━━━━━━━━\u001b[0m \u001b[32m56.5/56.5 MB\u001b[0m \u001b[31m12.3 MB/s\u001b[0m eta \u001b[36m0:00:00\u001b[0m\n",
            "\u001b[?25hDownloading nvidia_cusolver_cu12-11.4.5.107-py3-none-manylinux1_x86_64.whl (124.2 MB)\n",
            "\u001b[2K   \u001b[90m━━━━━━━━━━━━━━━━━━━━━━━━━━━━━━━━━━━━━━━━\u001b[0m \u001b[32m124.2/124.2 MB\u001b[0m \u001b[31m7.1 MB/s\u001b[0m eta \u001b[36m0:00:00\u001b[0m\n",
            "\u001b[?25hDownloading nvidia_cusparse_cu12-12.1.0.106-py3-none-manylinux1_x86_64.whl (196.0 MB)\n",
            "\u001b[2K   \u001b[91m━━━━━━━━━━━━━━━━━━\u001b[0m\u001b[91m╸\u001b[0m\u001b[90m━━━━━━━━━━━━━━━━━━━━━\u001b[0m \u001b[32m91.8/196.0 MB\u001b[0m \u001b[31m69.4 MB/s\u001b[0m eta \u001b[36m0:00:02\u001b[0m\n",
            "\u001b[?25h\u001b[31mERROR: Operation cancelled by user\u001b[0m\u001b[31m\n",
            "\u001b[0m"
          ]
        }
      ],
      "source": [
        "!pip install torch==2.3.0 torchaudio==2.3.0\n"
      ]
    },
    {
      "cell_type": "code",
      "source": [
        "import torch\n",
        "import torchaudio\n",
        "from torchaudio.models import Tacotron2\n"
      ],
      "metadata": {
        "id": "YERwmt2PjcOJ"
      },
      "execution_count": null,
      "outputs": []
    },
    {
      "cell_type": "code",
      "source": [
        "bundle = torchaudio.pipelines.TACOTRON2_WAVERNN_CHAR_LJSPEECH\n",
        "processor = bundle.get_text_processor()\n",
        "tacatron2 = bundle.get_tacotron2()"
      ],
      "metadata": {
        "id": "dRCapERFgTAs"
      },
      "execution_count": null,
      "outputs": []
    },
    {
      "cell_type": "code",
      "source": [
        "processor = bundle.get_text_processor()"
      ],
      "metadata": {
        "id": "5Sl6m64tj00q"
      },
      "execution_count": null,
      "outputs": []
    },
    {
      "cell_type": "code",
      "source": [
        "!pip install torch==2.3.0 torchaudio==2.3.0 transformers==4.44.0 datasets==3.0.1 soundfile==0.12.1 accelerate==0.34.2 speechbrain==0.5.16 torchvision==0.18.0"
      ],
      "metadata": {
        "colab": {
          "base_uri": "https://localhost:8080/"
        },
        "id": "HJjtiSjNkAuG",
        "outputId": "988dd1a0-1fcc-440b-efc3-b39894fa017c"
      },
      "execution_count": null,
      "outputs": [
        {
          "output_type": "stream",
          "name": "stdout",
          "text": [
            "\u001b[33mWARNING: Ignoring invalid distribution ~orch (/usr/local/lib/python3.12/dist-packages)\u001b[0m\u001b[33m\n",
            "\u001b[0mCollecting torch==2.3.0\n",
            "  Using cached torch-2.3.0-cp312-cp312-manylinux1_x86_64.whl.metadata (26 kB)\n",
            "Requirement already satisfied: torchaudio==2.3.0 in /usr/local/lib/python3.12/dist-packages (2.3.0)\n",
            "Requirement already satisfied: transformers==4.44.0 in /usr/local/lib/python3.12/dist-packages (4.44.0)\n",
            "Requirement already satisfied: datasets==3.0.1 in /usr/local/lib/python3.12/dist-packages (3.0.1)\n",
            "Requirement already satisfied: soundfile==0.12.1 in /usr/local/lib/python3.12/dist-packages (0.12.1)\n",
            "Requirement already satisfied: accelerate==0.34.2 in /usr/local/lib/python3.12/dist-packages (0.34.2)\n",
            "Requirement already satisfied: speechbrain==0.5.16 in /usr/local/lib/python3.12/dist-packages (0.5.16)\n",
            "Requirement already satisfied: torchvision==0.18.0 in /usr/local/lib/python3.12/dist-packages (0.18.0)\n",
            "Requirement already satisfied: filelock in /usr/local/lib/python3.12/dist-packages (from torch==2.3.0) (3.19.1)\n",
            "Requirement already satisfied: typing-extensions>=4.8.0 in /usr/local/lib/python3.12/dist-packages (from torch==2.3.0) (4.15.0)\n",
            "Requirement already satisfied: sympy in /usr/local/lib/python3.12/dist-packages (from torch==2.3.0) (1.13.3)\n",
            "Requirement already satisfied: networkx in /usr/local/lib/python3.12/dist-packages (from torch==2.3.0) (3.5)\n",
            "Requirement already satisfied: jinja2 in /usr/local/lib/python3.12/dist-packages (from torch==2.3.0) (3.1.6)\n",
            "Requirement already satisfied: fsspec in /usr/local/lib/python3.12/dist-packages (from torch==2.3.0) (2024.6.1)\n",
            "Requirement already satisfied: nvidia-cuda-nvrtc-cu12==12.1.105 in /usr/local/lib/python3.12/dist-packages (from torch==2.3.0) (12.1.105)\n",
            "Requirement already satisfied: nvidia-cuda-runtime-cu12==12.1.105 in /usr/local/lib/python3.12/dist-packages (from torch==2.3.0) (12.1.105)\n",
            "Requirement already satisfied: nvidia-cuda-cupti-cu12==12.1.105 in /usr/local/lib/python3.12/dist-packages (from torch==2.3.0) (12.1.105)\n",
            "Requirement already satisfied: nvidia-cudnn-cu12==8.9.2.26 in /usr/local/lib/python3.12/dist-packages (from torch==2.3.0) (8.9.2.26)\n",
            "Requirement already satisfied: nvidia-cublas-cu12==12.1.3.1 in /usr/local/lib/python3.12/dist-packages (from torch==2.3.0) (12.1.3.1)\n",
            "Requirement already satisfied: nvidia-cufft-cu12==11.0.2.54 in /usr/local/lib/python3.12/dist-packages (from torch==2.3.0) (11.0.2.54)\n",
            "Requirement already satisfied: nvidia-curand-cu12==10.3.2.106 in /usr/local/lib/python3.12/dist-packages (from torch==2.3.0) (10.3.2.106)\n",
            "Requirement already satisfied: nvidia-cusolver-cu12==11.4.5.107 in /usr/local/lib/python3.12/dist-packages (from torch==2.3.0) (11.4.5.107)\n",
            "Requirement already satisfied: nvidia-cusparse-cu12==12.1.0.106 in /usr/local/lib/python3.12/dist-packages (from torch==2.3.0) (12.1.0.106)\n",
            "Requirement already satisfied: nvidia-nccl-cu12==2.20.5 in /usr/local/lib/python3.12/dist-packages (from torch==2.3.0) (2.20.5)\n",
            "Requirement already satisfied: nvidia-nvtx-cu12==12.1.105 in /usr/local/lib/python3.12/dist-packages (from torch==2.3.0) (12.1.105)\n",
            "Requirement already satisfied: huggingface-hub<1.0,>=0.23.2 in /usr/local/lib/python3.12/dist-packages (from transformers==4.44.0) (0.34.4)\n",
            "Requirement already satisfied: numpy>=1.17 in /usr/local/lib/python3.12/dist-packages (from transformers==4.44.0) (2.0.2)\n",
            "Requirement already satisfied: packaging>=20.0 in /usr/local/lib/python3.12/dist-packages (from transformers==4.44.0) (25.0)\n",
            "Requirement already satisfied: pyyaml>=5.1 in /usr/local/lib/python3.12/dist-packages (from transformers==4.44.0) (6.0.2)\n",
            "Requirement already satisfied: regex!=2019.12.17 in /usr/local/lib/python3.12/dist-packages (from transformers==4.44.0) (2024.11.6)\n",
            "Requirement already satisfied: requests in /usr/local/lib/python3.12/dist-packages (from transformers==4.44.0) (2.32.4)\n",
            "Requirement already satisfied: safetensors>=0.4.1 in /usr/local/lib/python3.12/dist-packages (from transformers==4.44.0) (0.6.2)\n",
            "Requirement already satisfied: tokenizers<0.20,>=0.19 in /usr/local/lib/python3.12/dist-packages (from transformers==4.44.0) (0.19.1)\n",
            "Requirement already satisfied: tqdm>=4.27 in /usr/local/lib/python3.12/dist-packages (from transformers==4.44.0) (4.67.1)\n",
            "Requirement already satisfied: pyarrow>=15.0.0 in /usr/local/lib/python3.12/dist-packages (from datasets==3.0.1) (18.1.0)\n",
            "Requirement already satisfied: dill<0.3.9,>=0.3.0 in /usr/local/lib/python3.12/dist-packages (from datasets==3.0.1) (0.3.8)\n",
            "Requirement already satisfied: pandas in /usr/local/lib/python3.12/dist-packages (from datasets==3.0.1) (2.2.2)\n",
            "Requirement already satisfied: xxhash in /usr/local/lib/python3.12/dist-packages (from datasets==3.0.1) (3.5.0)\n",
            "Requirement already satisfied: multiprocess in /usr/local/lib/python3.12/dist-packages (from datasets==3.0.1) (0.70.16)\n",
            "Requirement already satisfied: aiohttp in /usr/local/lib/python3.12/dist-packages (from datasets==3.0.1) (3.12.15)\n",
            "Requirement already satisfied: cffi>=1.0 in /usr/local/lib/python3.12/dist-packages (from soundfile==0.12.1) (2.0.0)\n",
            "Requirement already satisfied: psutil in /usr/local/lib/python3.12/dist-packages (from accelerate==0.34.2) (5.9.5)\n",
            "Requirement already satisfied: hyperpyyaml in /usr/local/lib/python3.12/dist-packages (from speechbrain==0.5.16) (1.2.2)\n",
            "Requirement already satisfied: joblib in /usr/local/lib/python3.12/dist-packages (from speechbrain==0.5.16) (1.5.2)\n",
            "Requirement already satisfied: scipy in /usr/local/lib/python3.12/dist-packages (from speechbrain==0.5.16) (1.16.1)\n",
            "Requirement already satisfied: sentencepiece in /usr/local/lib/python3.12/dist-packages (from speechbrain==0.5.16) (0.2.1)\n",
            "Requirement already satisfied: pillow!=8.3.*,>=5.3.0 in /usr/local/lib/python3.12/dist-packages (from torchvision==0.18.0) (11.3.0)\n",
            "Requirement already satisfied: nvidia-nvjitlink-cu12 in /usr/local/lib/python3.12/dist-packages (from nvidia-cusolver-cu12==11.4.5.107->torch==2.3.0) (12.8.93)\n",
            "Requirement already satisfied: pycparser in /usr/local/lib/python3.12/dist-packages (from cffi>=1.0->soundfile==0.12.1) (2.23)\n",
            "Requirement already satisfied: aiohappyeyeballs>=2.5.0 in /usr/local/lib/python3.12/dist-packages (from aiohttp->datasets==3.0.1) (2.6.1)\n",
            "Requirement already satisfied: aiosignal>=1.4.0 in /usr/local/lib/python3.12/dist-packages (from aiohttp->datasets==3.0.1) (1.4.0)\n",
            "Requirement already satisfied: attrs>=17.3.0 in /usr/local/lib/python3.12/dist-packages (from aiohttp->datasets==3.0.1) (25.3.0)\n",
            "Requirement already satisfied: frozenlist>=1.1.1 in /usr/local/lib/python3.12/dist-packages (from aiohttp->datasets==3.0.1) (1.7.0)\n",
            "Requirement already satisfied: multidict<7.0,>=4.5 in /usr/local/lib/python3.12/dist-packages (from aiohttp->datasets==3.0.1) (6.6.4)\n",
            "Requirement already satisfied: propcache>=0.2.0 in /usr/local/lib/python3.12/dist-packages (from aiohttp->datasets==3.0.1) (0.3.2)\n",
            "Requirement already satisfied: yarl<2.0,>=1.17.0 in /usr/local/lib/python3.12/dist-packages (from aiohttp->datasets==3.0.1) (1.20.1)\n",
            "Requirement already satisfied: hf-xet<2.0.0,>=1.1.3 in /usr/local/lib/python3.12/dist-packages (from huggingface-hub<1.0,>=0.23.2->transformers==4.44.0) (1.1.9)\n",
            "Requirement already satisfied: charset_normalizer<4,>=2 in /usr/local/lib/python3.12/dist-packages (from requests->transformers==4.44.0) (3.4.3)\n",
            "Requirement already satisfied: idna<4,>=2.5 in /usr/local/lib/python3.12/dist-packages (from requests->transformers==4.44.0) (3.10)\n",
            "Requirement already satisfied: urllib3<3,>=1.21.1 in /usr/local/lib/python3.12/dist-packages (from requests->transformers==4.44.0) (2.5.0)\n",
            "Requirement already satisfied: certifi>=2017.4.17 in /usr/local/lib/python3.12/dist-packages (from requests->transformers==4.44.0) (2025.8.3)\n",
            "Requirement already satisfied: ruamel.yaml>=0.17.28 in /usr/local/lib/python3.12/dist-packages (from hyperpyyaml->speechbrain==0.5.16) (0.18.15)\n",
            "Requirement already satisfied: MarkupSafe>=2.0 in /usr/local/lib/python3.12/dist-packages (from jinja2->torch==2.3.0) (3.0.2)\n",
            "Requirement already satisfied: python-dateutil>=2.8.2 in /usr/local/lib/python3.12/dist-packages (from pandas->datasets==3.0.1) (2.9.0.post0)\n",
            "Requirement already satisfied: pytz>=2020.1 in /usr/local/lib/python3.12/dist-packages (from pandas->datasets==3.0.1) (2025.2)\n",
            "Requirement already satisfied: tzdata>=2022.7 in /usr/local/lib/python3.12/dist-packages (from pandas->datasets==3.0.1) (2025.2)\n",
            "Requirement already satisfied: mpmath<1.4,>=1.1.0 in /usr/local/lib/python3.12/dist-packages (from sympy->torch==2.3.0) (1.3.0)\n",
            "Requirement already satisfied: six>=1.5 in /usr/local/lib/python3.12/dist-packages (from python-dateutil>=2.8.2->pandas->datasets==3.0.1) (1.17.0)\n",
            "Requirement already satisfied: ruamel.yaml.clib>=0.2.7 in /usr/local/lib/python3.12/dist-packages (from ruamel.yaml>=0.17.28->hyperpyyaml->speechbrain==0.5.16) (0.2.12)\n",
            "Using cached torch-2.3.0-cp312-cp312-manylinux1_x86_64.whl (779.1 MB)\n",
            "\u001b[33mWARNING: Ignoring invalid distribution ~orch (/usr/local/lib/python3.12/dist-packages)\u001b[0m\u001b[33m\n",
            "\u001b[0mInstalling collected packages: torch\n",
            "\u001b[33mWARNING: Ignoring invalid distribution ~orch (/usr/local/lib/python3.12/dist-packages)\u001b[0m\u001b[33m\n",
            "\u001b[0mSuccessfully installed torch\n"
          ]
        }
      ]
    },
    {
      "cell_type": "code",
      "source": [
        "vocoder = bundle.get_vocoder().eval()"
      ],
      "metadata": {
        "id": "A79gAFGXmUMv"
      },
      "execution_count": null,
      "outputs": []
    },
    {
      "cell_type": "code",
      "source": [
        "from huggingface_hub import notebook_login\n",
        "notebook_login()"
      ],
      "metadata": {
        "colab": {
          "base_uri": "https://localhost:8080/",
          "height": 16,
          "referenced_widgets": [
            "2c8a563056094b3198b20e6bb36688cf",
            "d98b65abd7c646fda041a814632159e1",
            "81ae59b3ab25400c951f4cc891ce0ac2",
            "cf1b4a698bad459abe195029cb8568f1",
            "c31069cd910343ad9953dad67bd83fa3",
            "662a795d15224fce8e1ef4895bcc18ae",
            "406b16cade504ea99fe7cb97e062bc07",
            "bb22eb7a884245288f32e73824179a2d",
            "a28935050e954ac88f0bfe814e0e361b",
            "f81123cee78b459181708eb6f3d72667",
            "db725489bfab450d860c70a5d616d1e8",
            "238f6e8a9382473b99914dd5cdf407b4",
            "39aa7c3e1da84bea9227b674f5f07edf",
            "1f15a753fa934ca5af5798f2fe9f89a3",
            "73ffb93c291949a58fbc21465b32a8f3",
            "692aed1e9cd04a5ab6a1c0d99acfa70d",
            "da7d6929a80b418590723737444cfe87",
            "b02a77d987e24b0ab8e91a9f33c34eb6",
            "d3e91b2079344938aec7c14a340136b9",
            "9f904e16b1164367b4ea1598ee8728ad"
          ]
        },
        "id": "TEGpULYBmeGh",
        "outputId": "56bc754b-c017-44e6-b5cd-d74e78301db0"
      },
      "execution_count": null,
      "outputs": [
        {
          "output_type": "display_data",
          "data": {
            "text/plain": [
              "VBox(children=(HTML(value='<center> <img\\nsrc=https://huggingface.co/front/assets/huggingface_logo-noborder.sv…"
            ],
            "application/vnd.jupyter.widget-view+json": {
              "version_major": 2,
              "version_minor": 0,
              "model_id": "2c8a563056094b3198b20e6bb36688cf"
            }
          },
          "metadata": {}
        }
      ]
    },
    {
      "cell_type": "code",
      "source": [
        "from datasets import load_dataset, Audio\n",
        "dataset = load_dataset(\"erenfazlioglu/turkishvoicedataset\", split=\"train\")\n",
        "dataset"
      ],
      "metadata": {
        "colab": {
          "base_uri": "https://localhost:8080/"
        },
        "id": "EYol5DdLmr-v",
        "outputId": "06004a89-b9e3-48a9-c9db-72bc3380c0ae"
      },
      "execution_count": null,
      "outputs": [
        {
          "output_type": "stream",
          "name": "stderr",
          "text": [
            "/usr/local/lib/python3.12/dist-packages/huggingface_hub/utils/_auth.py:94: UserWarning: \n",
            "The secret `HF_TOKEN` does not exist in your Colab secrets.\n",
            "To authenticate with the Hugging Face Hub, create a token in your settings tab (https://huggingface.co/settings/tokens), set it as secret in your Google Colab and restart your session.\n",
            "You will be able to reuse this secret in all of your notebooks.\n",
            "Please note that authentication is recommended but still optional to access public models or datasets.\n",
            "  warnings.warn(\n"
          ]
        },
        {
          "output_type": "execute_result",
          "data": {
            "text/plain": [
              "Dataset({\n",
              "    features: ['audio', 'transcription'],\n",
              "    num_rows: 130634\n",
              "})"
            ]
          },
          "metadata": {},
          "execution_count": 8
        }
      ]
    },
    {
      "cell_type": "code",
      "source": [
        "half_size = len(dataset) // 16\n",
        "\n",
        "# Select the first half of the dataset\n",
        "dataset = dataset.select(range(half_size))\n",
        "\n",
        "print(dataset)"
      ],
      "metadata": {
        "colab": {
          "base_uri": "https://localhost:8080/"
        },
        "id": "M8p_BfXvn1Sd",
        "outputId": "fcc25ae3-5a13-4a7b-b53a-99dc68173bcf"
      },
      "execution_count": null,
      "outputs": [
        {
          "output_type": "stream",
          "name": "stdout",
          "text": [
            "Dataset({\n",
            "    features: ['audio', 'transcription'],\n",
            "    num_rows: 8164\n",
            "})\n"
          ]
        }
      ]
    },
    {
      "cell_type": "code",
      "source": [
        "dataset = dataset.cast_column(\"audio\", Audio(sampling_rate=16000))"
      ],
      "metadata": {
        "id": "uSsYBJGKn7F9"
      },
      "execution_count": null,
      "outputs": []
    },
    {
      "cell_type": "code",
      "source": [
        "import re\n",
        "\n",
        "def extract_all_chars(batch):\n",
        "    all_text = \" \".join(batch[\"transcription\"])\n",
        "    all_text = re.sub(r\"[^a-zA-ZçÇğĞıİöÖşŞüÜ]\", \"\", all_text)\n",
        "    vocab = list(set(all_text.lower()))\n",
        "    return {\"vocab\": [vocab], \"all_text\": [all_text]}\n",
        "\n",
        "vocabs = dataset.map(\n",
        "    extract_all_chars,\n",
        "    batched=True,\n",
        "    batch_size=-1,\n",
        "    keep_in_memory=True,\n",
        "    remove_columns=dataset.column_names,\n",
        ")\n",
        "\n",
        "dataset_vocab = set(vocabs[\"vocab\"][0])\n"
      ],
      "metadata": {
        "colab": {
          "base_uri": "https://localhost:8080/",
          "height": 49,
          "referenced_widgets": [
            "1de715cc213345f08adcd3c76676ea13",
            "9137f15f2c7c4323b2878595115d42f6",
            "1c4caf1626974f369893f86939a69473",
            "a87a4cd610a54f2392130b567cbd9bc2",
            "9388e014a15d43fd8c5b904ef655be00",
            "77cbc8b2227d4f45a9746bf8dd35d090",
            "d090ca0fcebc4a2e81deb708c71de6e4",
            "e5580ebd39e1496eac662affb73b70e9",
            "9e06fb4acb46407eb5c0138f29078f13",
            "f1c17b11ba384fe29acb0981449c35cc",
            "25f7fa184d4647ae93ed85cc75ae341e"
          ]
        },
        "id": "nCWuWtV5oAVv",
        "outputId": "89f30fac-2c5d-4e79-eda7-a6a432122406"
      },
      "execution_count": null,
      "outputs": [
        {
          "output_type": "display_data",
          "data": {
            "text/plain": [
              "Map:   0%|          | 0/8164 [00:00<?, ? examples/s]"
            ],
            "application/vnd.jupyter.widget-view+json": {
              "version_major": 2,
              "version_minor": 0,
              "model_id": "1de715cc213345f08adcd3c76676ea13"
            }
          },
          "metadata": {}
        }
      ]
    },
    {
      "cell_type": "code",
      "source": [
        "dataset_vocab"
      ],
      "metadata": {
        "colab": {
          "base_uri": "https://localhost:8080/"
        },
        "id": "NqEYgYD7oPmj",
        "outputId": "b88b3fcb-0c28-4f22-a3b8-5ba1b688777e"
      },
      "execution_count": null,
      "outputs": [
        {
          "output_type": "execute_result",
          "data": {
            "text/plain": [
              "{'a',\n",
              " 'b',\n",
              " 'c',\n",
              " 'd',\n",
              " 'e',\n",
              " 'f',\n",
              " 'g',\n",
              " 'h',\n",
              " 'i',\n",
              " 'j',\n",
              " 'k',\n",
              " 'l',\n",
              " 'm',\n",
              " 'n',\n",
              " 'o',\n",
              " 'p',\n",
              " 'q',\n",
              " 'r',\n",
              " 's',\n",
              " 't',\n",
              " 'u',\n",
              " 'v',\n",
              " 'w',\n",
              " 'x',\n",
              " 'y',\n",
              " 'z',\n",
              " 'ç',\n",
              " 'ö',\n",
              " 'ü',\n",
              " 'ğ',\n",
              " 'ı',\n",
              " 'ş',\n",
              " '̇'}"
            ]
          },
          "metadata": {},
          "execution_count": 12
        }
      ]
    },
    {
      "cell_type": "code",
      "source": [
        "import re\n",
        "\n",
        "def normalize_text(text):\n",
        "    # Convert to lowercase\n",
        "    text = text.lower()\n",
        "\n",
        "    # Remove punctuation (except apostrophes)\n",
        "    text = re.sub(r'[^\\w\\s\\']', '', text)\n",
        "\n",
        "    # Remove extra whitespace\n",
        "    text = ' '.join(text.split())\n",
        "\n",
        "    return text\n",
        "\n",
        "# Define a function to add the normalized_text column\n",
        "def add_normalized_text(example):\n",
        "    example['normalized_text'] = normalize_text(example['transcription'])\n",
        "    return example\n",
        "\n",
        "# Apply the function to the dataset\n",
        "dataset = dataset.map(add_normalized_text)"
      ],
      "metadata": {
        "colab": {
          "base_uri": "https://localhost:8080/",
          "height": 49,
          "referenced_widgets": [
            "45cef68c66c244d4b29df467230afff2",
            "6055ee83f94d4da99fc39206c47e3561",
            "3a123a35c1ba4f6eb9612b683cb0e178",
            "ad01a78851684726a39b7bd067473217",
            "f97267739f5140388368669831ddaca5",
            "b4c7b59f629f48dbbfd619fa68320bc2",
            "def3210141af489093c1e71fedb719b9",
            "b1aab78860b04164b4609ea3f5568ee6",
            "f523f96229a743478d0d133f93de8811",
            "d72f1be7e8d74ac3baefcc8bf5a9f424",
            "6f46327d514f40fc81a191071a53c60b"
          ]
        },
        "id": "D-xNldQgpEiB",
        "outputId": "0fb8bb86-cf50-4731-807f-ad084f3f01a0"
      },
      "execution_count": null,
      "outputs": [
        {
          "output_type": "display_data",
          "data": {
            "text/plain": [
              "Map:   0%|          | 0/8164 [00:00<?, ? examples/s]"
            ],
            "application/vnd.jupyter.widget-view+json": {
              "version_major": 2,
              "version_minor": 0,
              "model_id": "45cef68c66c244d4b29df467230afff2"
            }
          },
          "metadata": {}
        }
      ]
    },
    {
      "cell_type": "code",
      "source": [
        "dataset"
      ],
      "metadata": {
        "colab": {
          "base_uri": "https://localhost:8080/"
        },
        "id": "AZCbKlmwpdna",
        "outputId": "5090fa45-ab74-46fa-847d-ba53b6b62bfc"
      },
      "execution_count": null,
      "outputs": [
        {
          "output_type": "execute_result",
          "data": {
            "text/plain": [
              "Dataset({\n",
              "    features: ['audio', 'transcription', 'normalized_text'],\n",
              "    num_rows: 8164\n",
              "})"
            ]
          },
          "metadata": {},
          "execution_count": 14
        }
      ]
    },
    {
      "cell_type": "code",
      "source": [
        "print(dataset[2:5])"
      ],
      "metadata": {
        "colab": {
          "base_uri": "https://localhost:8080/"
        },
        "id": "gTeuh8hLpgZW",
        "outputId": "db2807cc-c19e-48a3-873c-671019cd209f"
      },
      "execution_count": null,
      "outputs": [
        {
          "output_type": "stream",
          "name": "stdout",
          "text": [
            "{'audio': [{'path': '0000003.mp3', 'array': array([0., 0., 0., ..., 0., 0., 0.]), 'sampling_rate': 16000}, {'path': '0000004.mp3', 'array': array([0., 0., 0., ..., 0., 0., 0.]), 'sampling_rate': 16000}, {'path': '0000005.mp3', 'array': array([0., 0., 0., ..., 0., 0., 0.]), 'sampling_rate': 16000}], 'transcription': ['İBB Başkanı Ekrem İmamoğlu CHP Genel Başkanlığı için koltuk kavgasına girdi', 'İstanbul aklında bile değildi', '4 yıldır ödeme alamayan özel halk otobüsü sahipleri isyan etti'], 'normalized_text': ['ibb başkanı ekrem imamoğlu chp genel başkanlığı için koltuk kavgasına girdi', 'istanbul aklında bile değildi', '4 yıldır ödeme alamayan özel halk otobüsü sahipleri isyan etti']}\n"
          ]
        }
      ]
    },
    {
      "cell_type": "code",
      "source": [
        "replacements = [\n",
        "    (\"â\", \"a\"),\n",
        "    (\"ç\", \"ch\"),\n",
        "    (\"ğ\", \"gh\"),\n",
        "    (\"ı\", \"i\"),\n",
        "    (\"î\", \"i\"),\n",
        "    (\"ö\", \"oe\"),\n",
        "    (\"ş\", \"sh\"),\n",
        "    (\"ü\", \"ue\"),\n",
        "    (\"û\", \"u\"),\n",
        "]\n",
        "\n",
        "def cleanup_text(inputs):\n",
        "    for src, dst in replacements:\n",
        "        inputs[\"normalized_text\"] = inputs[\"normalized_text\"].replace(src, dst)\n",
        "    return inputs\n",
        "\n",
        "dataset = dataset.map(cleanup_text)"
      ],
      "metadata": {
        "colab": {
          "base_uri": "https://localhost:8080/",
          "height": 49,
          "referenced_widgets": [
            "bfd96687a7154c63ab91d3b8276b76cd",
            "d04e8e8d3f53472a93168f904e619584",
            "e79e97589fbd47e5a33476a1049dc20e",
            "a460f9d3e3694cf2ada7c21407becc4a",
            "eae261c28392445c81ecf97ab0397180",
            "33356657163845338ec229648142cdc3",
            "506cff8a0e7b4c5ea82c0c2e07f061b7",
            "f1db57d020a04c1a937cc22eee1f1fdb",
            "dbce67fb2eb2426fa1fabe711cc7ce22",
            "de77349c214f4e6f8973de00b99fb89d",
            "d49a51345b424531a3616635e54f9beb"
          ]
        },
        "id": "_flVZrTSr_L3",
        "outputId": "737e33c9-e8e3-420a-99c7-9d4213daa316"
      },
      "execution_count": null,
      "outputs": [
        {
          "output_type": "display_data",
          "data": {
            "text/plain": [
              "Map:   0%|          | 0/8164 [00:00<?, ? examples/s]"
            ],
            "application/vnd.jupyter.widget-view+json": {
              "version_major": 2,
              "version_minor": 0,
              "model_id": "bfd96687a7154c63ab91d3b8276b76cd"
            }
          },
          "metadata": {}
        }
      ]
    },
    {
      "cell_type": "code",
      "source": [
        "texts = dataset[\"normalized_text\"][:50]\n",
        "\n",
        "for i, text in enumerate(texts):\n",
        "    tokens, lengths = processor(text)\n",
        "\n",
        "    with torch.inference_mode():\n",
        "        spec, _, _ = tacatron2.infer(tokens, lengths)\n",
        "        waveforms, length = vocoder(spec)\n",
        "\n",
        "    filename = f\"sample_{i}.wav\"\n",
        "    torchaudio.save(filename, waveforms.cpu(), vocoder.sample_rate)\n",
        "\n",
        "    print(f\"Saved: {filename}\")"
      ],
      "metadata": {
        "colab": {
          "base_uri": "https://localhost:8080/",
          "height": 505
        },
        "id": "H-2E6sLGv_ML",
        "outputId": "ff89543b-5a3d-41c3-ab2c-985186428c6e"
      },
      "execution_count": null,
      "outputs": [
        {
          "output_type": "stream",
          "name": "stdout",
          "text": [
            "Saved: sample_0.wav\n",
            "Saved: sample_1.wav\n",
            "Saved: sample_2.wav\n",
            "Saved: sample_3.wav\n",
            "Saved: sample_4.wav\n",
            "Saved: sample_5.wav\n",
            "Saved: sample_6.wav\n",
            "Saved: sample_7.wav\n",
            "Saved: sample_8.wav\n",
            "Saved: sample_9.wav\n"
          ]
        },
        {
          "output_type": "error",
          "ename": "KeyboardInterrupt",
          "evalue": "",
          "traceback": [
            "\u001b[0;31m---------------------------------------------------------------------------\u001b[0m",
            "\u001b[0;31mKeyboardInterrupt\u001b[0m                         Traceback (most recent call last)",
            "\u001b[0;32m/tmp/ipython-input-859920976.py\u001b[0m in \u001b[0;36m<cell line: 0>\u001b[0;34m()\u001b[0m\n\u001b[1;32m      6\u001b[0m     \u001b[0;32mwith\u001b[0m \u001b[0mtorch\u001b[0m\u001b[0;34m.\u001b[0m\u001b[0minference_mode\u001b[0m\u001b[0;34m(\u001b[0m\u001b[0;34m)\u001b[0m\u001b[0;34m:\u001b[0m\u001b[0;34m\u001b[0m\u001b[0;34m\u001b[0m\u001b[0m\n\u001b[1;32m      7\u001b[0m         \u001b[0mspec\u001b[0m\u001b[0;34m,\u001b[0m \u001b[0m_\u001b[0m\u001b[0;34m,\u001b[0m \u001b[0m_\u001b[0m \u001b[0;34m=\u001b[0m \u001b[0mtacatron2\u001b[0m\u001b[0;34m.\u001b[0m\u001b[0minfer\u001b[0m\u001b[0;34m(\u001b[0m\u001b[0mtokens\u001b[0m\u001b[0;34m,\u001b[0m \u001b[0mlengths\u001b[0m\u001b[0;34m)\u001b[0m\u001b[0;34m\u001b[0m\u001b[0;34m\u001b[0m\u001b[0m\n\u001b[0;32m----> 8\u001b[0;31m         \u001b[0mwaveforms\u001b[0m\u001b[0;34m,\u001b[0m \u001b[0mlength\u001b[0m \u001b[0;34m=\u001b[0m \u001b[0mvocoder\u001b[0m\u001b[0;34m(\u001b[0m\u001b[0mspec\u001b[0m\u001b[0;34m)\u001b[0m\u001b[0;34m\u001b[0m\u001b[0;34m\u001b[0m\u001b[0m\n\u001b[0m\u001b[1;32m      9\u001b[0m \u001b[0;34m\u001b[0m\u001b[0m\n\u001b[1;32m     10\u001b[0m     \u001b[0mfilename\u001b[0m \u001b[0;34m=\u001b[0m \u001b[0;34mf\"sample_{i}.wav\"\u001b[0m\u001b[0;34m\u001b[0m\u001b[0;34m\u001b[0m\u001b[0m\n",
            "\u001b[0;32m/usr/local/lib/python3.12/dist-packages/torch/nn/modules/module.py\u001b[0m in \u001b[0;36m_wrapped_call_impl\u001b[0;34m(self, *args, **kwargs)\u001b[0m\n\u001b[1;32m   1530\u001b[0m             \u001b[0;32mreturn\u001b[0m \u001b[0mself\u001b[0m\u001b[0;34m.\u001b[0m\u001b[0m_compiled_call_impl\u001b[0m\u001b[0;34m(\u001b[0m\u001b[0;34m*\u001b[0m\u001b[0margs\u001b[0m\u001b[0;34m,\u001b[0m \u001b[0;34m**\u001b[0m\u001b[0mkwargs\u001b[0m\u001b[0;34m)\u001b[0m  \u001b[0;31m# type: ignore[misc]\u001b[0m\u001b[0;34m\u001b[0m\u001b[0;34m\u001b[0m\u001b[0m\n\u001b[1;32m   1531\u001b[0m         \u001b[0;32melse\u001b[0m\u001b[0;34m:\u001b[0m\u001b[0;34m\u001b[0m\u001b[0;34m\u001b[0m\u001b[0m\n\u001b[0;32m-> 1532\u001b[0;31m             \u001b[0;32mreturn\u001b[0m \u001b[0mself\u001b[0m\u001b[0;34m.\u001b[0m\u001b[0m_call_impl\u001b[0m\u001b[0;34m(\u001b[0m\u001b[0;34m*\u001b[0m\u001b[0margs\u001b[0m\u001b[0;34m,\u001b[0m \u001b[0;34m**\u001b[0m\u001b[0mkwargs\u001b[0m\u001b[0;34m)\u001b[0m\u001b[0;34m\u001b[0m\u001b[0;34m\u001b[0m\u001b[0m\n\u001b[0m\u001b[1;32m   1533\u001b[0m \u001b[0;34m\u001b[0m\u001b[0m\n\u001b[1;32m   1534\u001b[0m     \u001b[0;32mdef\u001b[0m \u001b[0m_call_impl\u001b[0m\u001b[0;34m(\u001b[0m\u001b[0mself\u001b[0m\u001b[0;34m,\u001b[0m \u001b[0;34m*\u001b[0m\u001b[0margs\u001b[0m\u001b[0;34m,\u001b[0m \u001b[0;34m**\u001b[0m\u001b[0mkwargs\u001b[0m\u001b[0;34m)\u001b[0m\u001b[0;34m:\u001b[0m\u001b[0;34m\u001b[0m\u001b[0;34m\u001b[0m\u001b[0m\n",
            "\u001b[0;32m/usr/local/lib/python3.12/dist-packages/torch/nn/modules/module.py\u001b[0m in \u001b[0;36m_call_impl\u001b[0;34m(self, *args, **kwargs)\u001b[0m\n\u001b[1;32m   1539\u001b[0m                 \u001b[0;32mor\u001b[0m \u001b[0m_global_backward_pre_hooks\u001b[0m \u001b[0;32mor\u001b[0m \u001b[0m_global_backward_hooks\u001b[0m\u001b[0;34m\u001b[0m\u001b[0;34m\u001b[0m\u001b[0m\n\u001b[1;32m   1540\u001b[0m                 or _global_forward_hooks or _global_forward_pre_hooks):\n\u001b[0;32m-> 1541\u001b[0;31m             \u001b[0;32mreturn\u001b[0m \u001b[0mforward_call\u001b[0m\u001b[0;34m(\u001b[0m\u001b[0;34m*\u001b[0m\u001b[0margs\u001b[0m\u001b[0;34m,\u001b[0m \u001b[0;34m**\u001b[0m\u001b[0mkwargs\u001b[0m\u001b[0;34m)\u001b[0m\u001b[0;34m\u001b[0m\u001b[0;34m\u001b[0m\u001b[0m\n\u001b[0m\u001b[1;32m   1542\u001b[0m \u001b[0;34m\u001b[0m\u001b[0m\n\u001b[1;32m   1543\u001b[0m         \u001b[0;32mtry\u001b[0m\u001b[0;34m:\u001b[0m\u001b[0;34m\u001b[0m\u001b[0;34m\u001b[0m\u001b[0m\n",
            "\u001b[0;32m/usr/local/lib/python3.12/dist-packages/torchaudio/pipelines/_tts/impl.py\u001b[0m in \u001b[0;36mforward\u001b[0;34m(self, mel_spec, lengths)\u001b[0m\n\u001b[1;32m     86\u001b[0m             \u001b[0mmel_spec\u001b[0m \u001b[0;34m=\u001b[0m \u001b[0;34m(\u001b[0m\u001b[0mself\u001b[0m\u001b[0;34m.\u001b[0m\u001b[0m_min_level_db\u001b[0m \u001b[0;34m-\u001b[0m \u001b[0mmel_spec\u001b[0m\u001b[0;34m)\u001b[0m \u001b[0;34m/\u001b[0m \u001b[0mself\u001b[0m\u001b[0;34m.\u001b[0m\u001b[0m_min_level_db\u001b[0m\u001b[0;34m\u001b[0m\u001b[0;34m\u001b[0m\u001b[0m\n\u001b[1;32m     87\u001b[0m             \u001b[0mmel_spec\u001b[0m \u001b[0;34m=\u001b[0m \u001b[0mtorch\u001b[0m\u001b[0;34m.\u001b[0m\u001b[0mclamp\u001b[0m\u001b[0;34m(\u001b[0m\u001b[0mmel_spec\u001b[0m\u001b[0;34m,\u001b[0m \u001b[0mmin\u001b[0m\u001b[0;34m=\u001b[0m\u001b[0;36m0\u001b[0m\u001b[0;34m,\u001b[0m \u001b[0mmax\u001b[0m\u001b[0;34m=\u001b[0m\u001b[0;36m1\u001b[0m\u001b[0;34m)\u001b[0m\u001b[0;34m\u001b[0m\u001b[0;34m\u001b[0m\u001b[0m\n\u001b[0;32m---> 88\u001b[0;31m         \u001b[0mwaveform\u001b[0m\u001b[0;34m,\u001b[0m \u001b[0mlengths\u001b[0m \u001b[0;34m=\u001b[0m \u001b[0mself\u001b[0m\u001b[0;34m.\u001b[0m\u001b[0m_model\u001b[0m\u001b[0;34m.\u001b[0m\u001b[0minfer\u001b[0m\u001b[0;34m(\u001b[0m\u001b[0mmel_spec\u001b[0m\u001b[0;34m,\u001b[0m \u001b[0mlengths\u001b[0m\u001b[0;34m)\u001b[0m\u001b[0;34m\u001b[0m\u001b[0;34m\u001b[0m\u001b[0m\n\u001b[0m\u001b[1;32m     89\u001b[0m         \u001b[0mwaveform\u001b[0m \u001b[0;34m=\u001b[0m \u001b[0mutils\u001b[0m\u001b[0;34m.\u001b[0m\u001b[0m_unnormalize_waveform\u001b[0m\u001b[0;34m(\u001b[0m\u001b[0mwaveform\u001b[0m\u001b[0;34m,\u001b[0m \u001b[0mself\u001b[0m\u001b[0;34m.\u001b[0m\u001b[0m_model\u001b[0m\u001b[0;34m.\u001b[0m\u001b[0mn_bits\u001b[0m\u001b[0;34m)\u001b[0m\u001b[0;34m\u001b[0m\u001b[0;34m\u001b[0m\u001b[0m\n\u001b[1;32m     90\u001b[0m         \u001b[0mwaveform\u001b[0m \u001b[0;34m=\u001b[0m \u001b[0mmu_law_decoding\u001b[0m\u001b[0;34m(\u001b[0m\u001b[0mwaveform\u001b[0m\u001b[0;34m,\u001b[0m \u001b[0mself\u001b[0m\u001b[0;34m.\u001b[0m\u001b[0m_model\u001b[0m\u001b[0;34m.\u001b[0m\u001b[0mn_classes\u001b[0m\u001b[0;34m)\u001b[0m\u001b[0;34m\u001b[0m\u001b[0;34m\u001b[0m\u001b[0m\n",
            "\u001b[0;32m/usr/local/lib/python3.12/dist-packages/torchaudio/models/wavernn.py\u001b[0m in \u001b[0;36minfer\u001b[0;34m(self, specgram, lengths)\u001b[0m\n\u001b[1;32m    363\u001b[0m \u001b[0;34m\u001b[0m\u001b[0m\n\u001b[1;32m    364\u001b[0m         \u001b[0mspecgram\u001b[0m \u001b[0;34m=\u001b[0m \u001b[0mtorch\u001b[0m\u001b[0;34m.\u001b[0m\u001b[0mnn\u001b[0m\u001b[0;34m.\u001b[0m\u001b[0mfunctional\u001b[0m\u001b[0;34m.\u001b[0m\u001b[0mpad\u001b[0m\u001b[0;34m(\u001b[0m\u001b[0mspecgram\u001b[0m\u001b[0;34m,\u001b[0m \u001b[0;34m(\u001b[0m\u001b[0mself\u001b[0m\u001b[0;34m.\u001b[0m\u001b[0m_pad\u001b[0m\u001b[0;34m,\u001b[0m \u001b[0mself\u001b[0m\u001b[0;34m.\u001b[0m\u001b[0m_pad\u001b[0m\u001b[0;34m)\u001b[0m\u001b[0;34m)\u001b[0m\u001b[0;34m\u001b[0m\u001b[0;34m\u001b[0m\u001b[0m\n\u001b[0;32m--> 365\u001b[0;31m         \u001b[0mspecgram\u001b[0m\u001b[0;34m,\u001b[0m \u001b[0maux\u001b[0m \u001b[0;34m=\u001b[0m \u001b[0mself\u001b[0m\u001b[0;34m.\u001b[0m\u001b[0mupsample\u001b[0m\u001b[0;34m(\u001b[0m\u001b[0mspecgram\u001b[0m\u001b[0;34m)\u001b[0m\u001b[0;34m\u001b[0m\u001b[0;34m\u001b[0m\u001b[0m\n\u001b[0m\u001b[1;32m    366\u001b[0m         \u001b[0;32mif\u001b[0m \u001b[0mlengths\u001b[0m \u001b[0;32mis\u001b[0m \u001b[0;32mnot\u001b[0m \u001b[0;32mNone\u001b[0m\u001b[0;34m:\u001b[0m\u001b[0;34m\u001b[0m\u001b[0;34m\u001b[0m\u001b[0m\n\u001b[1;32m    367\u001b[0m             \u001b[0mlengths\u001b[0m \u001b[0;34m=\u001b[0m \u001b[0mlengths\u001b[0m \u001b[0;34m*\u001b[0m \u001b[0mself\u001b[0m\u001b[0;34m.\u001b[0m\u001b[0mupsample\u001b[0m\u001b[0;34m.\u001b[0m\u001b[0mtotal_scale\u001b[0m\u001b[0;34m\u001b[0m\u001b[0;34m\u001b[0m\u001b[0m\n",
            "\u001b[0;32m/usr/local/lib/python3.12/dist-packages/torch/nn/modules/module.py\u001b[0m in \u001b[0;36m_wrapped_call_impl\u001b[0;34m(self, *args, **kwargs)\u001b[0m\n\u001b[1;32m   1530\u001b[0m             \u001b[0;32mreturn\u001b[0m \u001b[0mself\u001b[0m\u001b[0;34m.\u001b[0m\u001b[0m_compiled_call_impl\u001b[0m\u001b[0;34m(\u001b[0m\u001b[0;34m*\u001b[0m\u001b[0margs\u001b[0m\u001b[0;34m,\u001b[0m \u001b[0;34m**\u001b[0m\u001b[0mkwargs\u001b[0m\u001b[0;34m)\u001b[0m  \u001b[0;31m# type: ignore[misc]\u001b[0m\u001b[0;34m\u001b[0m\u001b[0;34m\u001b[0m\u001b[0m\n\u001b[1;32m   1531\u001b[0m         \u001b[0;32melse\u001b[0m\u001b[0;34m:\u001b[0m\u001b[0;34m\u001b[0m\u001b[0;34m\u001b[0m\u001b[0m\n\u001b[0;32m-> 1532\u001b[0;31m             \u001b[0;32mreturn\u001b[0m \u001b[0mself\u001b[0m\u001b[0;34m.\u001b[0m\u001b[0m_call_impl\u001b[0m\u001b[0;34m(\u001b[0m\u001b[0;34m*\u001b[0m\u001b[0margs\u001b[0m\u001b[0;34m,\u001b[0m \u001b[0;34m**\u001b[0m\u001b[0mkwargs\u001b[0m\u001b[0;34m)\u001b[0m\u001b[0;34m\u001b[0m\u001b[0;34m\u001b[0m\u001b[0m\n\u001b[0m\u001b[1;32m   1533\u001b[0m \u001b[0;34m\u001b[0m\u001b[0m\n\u001b[1;32m   1534\u001b[0m     \u001b[0;32mdef\u001b[0m \u001b[0m_call_impl\u001b[0m\u001b[0;34m(\u001b[0m\u001b[0mself\u001b[0m\u001b[0;34m,\u001b[0m \u001b[0;34m*\u001b[0m\u001b[0margs\u001b[0m\u001b[0;34m,\u001b[0m \u001b[0;34m**\u001b[0m\u001b[0mkwargs\u001b[0m\u001b[0;34m)\u001b[0m\u001b[0;34m:\u001b[0m\u001b[0;34m\u001b[0m\u001b[0;34m\u001b[0m\u001b[0m\n",
            "\u001b[0;32m/usr/local/lib/python3.12/dist-packages/torch/nn/modules/module.py\u001b[0m in \u001b[0;36m_call_impl\u001b[0;34m(self, *args, **kwargs)\u001b[0m\n\u001b[1;32m   1539\u001b[0m                 \u001b[0;32mor\u001b[0m \u001b[0m_global_backward_pre_hooks\u001b[0m \u001b[0;32mor\u001b[0m \u001b[0m_global_backward_hooks\u001b[0m\u001b[0;34m\u001b[0m\u001b[0;34m\u001b[0m\u001b[0m\n\u001b[1;32m   1540\u001b[0m                 or _global_forward_hooks or _global_forward_pre_hooks):\n\u001b[0;32m-> 1541\u001b[0;31m             \u001b[0;32mreturn\u001b[0m \u001b[0mforward_call\u001b[0m\u001b[0;34m(\u001b[0m\u001b[0;34m*\u001b[0m\u001b[0margs\u001b[0m\u001b[0;34m,\u001b[0m \u001b[0;34m**\u001b[0m\u001b[0mkwargs\u001b[0m\u001b[0;34m)\u001b[0m\u001b[0;34m\u001b[0m\u001b[0;34m\u001b[0m\u001b[0m\n\u001b[0m\u001b[1;32m   1542\u001b[0m \u001b[0;34m\u001b[0m\u001b[0m\n\u001b[1;32m   1543\u001b[0m         \u001b[0;32mtry\u001b[0m\u001b[0;34m:\u001b[0m\u001b[0;34m\u001b[0m\u001b[0;34m\u001b[0m\u001b[0m\n",
            "\u001b[0;32m/usr/local/lib/python3.12/dist-packages/torchaudio/models/wavernn.py\u001b[0m in \u001b[0;36mforward\u001b[0;34m(self, specgram)\u001b[0m\n\u001b[1;32m    191\u001b[0m \u001b[0;34m\u001b[0m\u001b[0m\n\u001b[1;32m    192\u001b[0m         \u001b[0mspecgram\u001b[0m \u001b[0;34m=\u001b[0m \u001b[0mspecgram\u001b[0m\u001b[0;34m.\u001b[0m\u001b[0munsqueeze\u001b[0m\u001b[0;34m(\u001b[0m\u001b[0;36m1\u001b[0m\u001b[0;34m)\u001b[0m\u001b[0;34m\u001b[0m\u001b[0;34m\u001b[0m\u001b[0m\n\u001b[0;32m--> 193\u001b[0;31m         \u001b[0mupsampling_output\u001b[0m \u001b[0;34m=\u001b[0m \u001b[0mself\u001b[0m\u001b[0;34m.\u001b[0m\u001b[0mupsample_layers\u001b[0m\u001b[0;34m(\u001b[0m\u001b[0mspecgram\u001b[0m\u001b[0;34m)\u001b[0m\u001b[0;34m\u001b[0m\u001b[0;34m\u001b[0m\u001b[0m\n\u001b[0m\u001b[1;32m    194\u001b[0m         \u001b[0mupsampling_output\u001b[0m \u001b[0;34m=\u001b[0m \u001b[0mupsampling_output\u001b[0m\u001b[0;34m.\u001b[0m\u001b[0msqueeze\u001b[0m\u001b[0;34m(\u001b[0m\u001b[0;36m1\u001b[0m\u001b[0;34m)\u001b[0m\u001b[0;34m[\u001b[0m\u001b[0;34m:\u001b[0m\u001b[0;34m,\u001b[0m \u001b[0;34m:\u001b[0m\u001b[0;34m,\u001b[0m \u001b[0mself\u001b[0m\u001b[0;34m.\u001b[0m\u001b[0mindent\u001b[0m \u001b[0;34m:\u001b[0m \u001b[0;34m-\u001b[0m\u001b[0mself\u001b[0m\u001b[0;34m.\u001b[0m\u001b[0mindent\u001b[0m\u001b[0;34m]\u001b[0m\u001b[0;34m\u001b[0m\u001b[0;34m\u001b[0m\u001b[0m\n\u001b[1;32m    195\u001b[0m \u001b[0;34m\u001b[0m\u001b[0m\n",
            "\u001b[0;32m/usr/local/lib/python3.12/dist-packages/torch/nn/modules/module.py\u001b[0m in \u001b[0;36m_wrapped_call_impl\u001b[0;34m(self, *args, **kwargs)\u001b[0m\n\u001b[1;32m   1530\u001b[0m             \u001b[0;32mreturn\u001b[0m \u001b[0mself\u001b[0m\u001b[0;34m.\u001b[0m\u001b[0m_compiled_call_impl\u001b[0m\u001b[0;34m(\u001b[0m\u001b[0;34m*\u001b[0m\u001b[0margs\u001b[0m\u001b[0;34m,\u001b[0m \u001b[0;34m**\u001b[0m\u001b[0mkwargs\u001b[0m\u001b[0;34m)\u001b[0m  \u001b[0;31m# type: ignore[misc]\u001b[0m\u001b[0;34m\u001b[0m\u001b[0;34m\u001b[0m\u001b[0m\n\u001b[1;32m   1531\u001b[0m         \u001b[0;32melse\u001b[0m\u001b[0;34m:\u001b[0m\u001b[0;34m\u001b[0m\u001b[0;34m\u001b[0m\u001b[0m\n\u001b[0;32m-> 1532\u001b[0;31m             \u001b[0;32mreturn\u001b[0m \u001b[0mself\u001b[0m\u001b[0;34m.\u001b[0m\u001b[0m_call_impl\u001b[0m\u001b[0;34m(\u001b[0m\u001b[0;34m*\u001b[0m\u001b[0margs\u001b[0m\u001b[0;34m,\u001b[0m \u001b[0;34m**\u001b[0m\u001b[0mkwargs\u001b[0m\u001b[0;34m)\u001b[0m\u001b[0;34m\u001b[0m\u001b[0;34m\u001b[0m\u001b[0m\n\u001b[0m\u001b[1;32m   1533\u001b[0m \u001b[0;34m\u001b[0m\u001b[0m\n\u001b[1;32m   1534\u001b[0m     \u001b[0;32mdef\u001b[0m \u001b[0m_call_impl\u001b[0m\u001b[0;34m(\u001b[0m\u001b[0mself\u001b[0m\u001b[0;34m,\u001b[0m \u001b[0;34m*\u001b[0m\u001b[0margs\u001b[0m\u001b[0;34m,\u001b[0m \u001b[0;34m**\u001b[0m\u001b[0mkwargs\u001b[0m\u001b[0;34m)\u001b[0m\u001b[0;34m:\u001b[0m\u001b[0;34m\u001b[0m\u001b[0;34m\u001b[0m\u001b[0m\n",
            "\u001b[0;32m/usr/local/lib/python3.12/dist-packages/torch/nn/modules/module.py\u001b[0m in \u001b[0;36m_call_impl\u001b[0;34m(self, *args, **kwargs)\u001b[0m\n\u001b[1;32m   1539\u001b[0m                 \u001b[0;32mor\u001b[0m \u001b[0m_global_backward_pre_hooks\u001b[0m \u001b[0;32mor\u001b[0m \u001b[0m_global_backward_hooks\u001b[0m\u001b[0;34m\u001b[0m\u001b[0;34m\u001b[0m\u001b[0m\n\u001b[1;32m   1540\u001b[0m                 or _global_forward_hooks or _global_forward_pre_hooks):\n\u001b[0;32m-> 1541\u001b[0;31m             \u001b[0;32mreturn\u001b[0m \u001b[0mforward_call\u001b[0m\u001b[0;34m(\u001b[0m\u001b[0;34m*\u001b[0m\u001b[0margs\u001b[0m\u001b[0;34m,\u001b[0m \u001b[0;34m**\u001b[0m\u001b[0mkwargs\u001b[0m\u001b[0;34m)\u001b[0m\u001b[0;34m\u001b[0m\u001b[0;34m\u001b[0m\u001b[0m\n\u001b[0m\u001b[1;32m   1542\u001b[0m \u001b[0;34m\u001b[0m\u001b[0m\n\u001b[1;32m   1543\u001b[0m         \u001b[0;32mtry\u001b[0m\u001b[0;34m:\u001b[0m\u001b[0;34m\u001b[0m\u001b[0;34m\u001b[0m\u001b[0m\n",
            "\u001b[0;32m/usr/local/lib/python3.12/dist-packages/torch/nn/modules/container.py\u001b[0m in \u001b[0;36mforward\u001b[0;34m(self, input)\u001b[0m\n\u001b[1;32m    215\u001b[0m     \u001b[0;32mdef\u001b[0m \u001b[0mforward\u001b[0m\u001b[0;34m(\u001b[0m\u001b[0mself\u001b[0m\u001b[0;34m,\u001b[0m \u001b[0minput\u001b[0m\u001b[0;34m)\u001b[0m\u001b[0;34m:\u001b[0m\u001b[0;34m\u001b[0m\u001b[0;34m\u001b[0m\u001b[0m\n\u001b[1;32m    216\u001b[0m         \u001b[0;32mfor\u001b[0m \u001b[0mmodule\u001b[0m \u001b[0;32min\u001b[0m \u001b[0mself\u001b[0m\u001b[0;34m:\u001b[0m\u001b[0;34m\u001b[0m\u001b[0;34m\u001b[0m\u001b[0m\n\u001b[0;32m--> 217\u001b[0;31m             \u001b[0minput\u001b[0m \u001b[0;34m=\u001b[0m \u001b[0mmodule\u001b[0m\u001b[0;34m(\u001b[0m\u001b[0minput\u001b[0m\u001b[0;34m)\u001b[0m\u001b[0;34m\u001b[0m\u001b[0;34m\u001b[0m\u001b[0m\n\u001b[0m\u001b[1;32m    218\u001b[0m         \u001b[0;32mreturn\u001b[0m \u001b[0minput\u001b[0m\u001b[0;34m\u001b[0m\u001b[0;34m\u001b[0m\u001b[0m\n\u001b[1;32m    219\u001b[0m \u001b[0;34m\u001b[0m\u001b[0m\n",
            "\u001b[0;32m/usr/local/lib/python3.12/dist-packages/torch/nn/modules/module.py\u001b[0m in \u001b[0;36m_wrapped_call_impl\u001b[0;34m(self, *args, **kwargs)\u001b[0m\n\u001b[1;32m   1530\u001b[0m             \u001b[0;32mreturn\u001b[0m \u001b[0mself\u001b[0m\u001b[0;34m.\u001b[0m\u001b[0m_compiled_call_impl\u001b[0m\u001b[0;34m(\u001b[0m\u001b[0;34m*\u001b[0m\u001b[0margs\u001b[0m\u001b[0;34m,\u001b[0m \u001b[0;34m**\u001b[0m\u001b[0mkwargs\u001b[0m\u001b[0;34m)\u001b[0m  \u001b[0;31m# type: ignore[misc]\u001b[0m\u001b[0;34m\u001b[0m\u001b[0;34m\u001b[0m\u001b[0m\n\u001b[1;32m   1531\u001b[0m         \u001b[0;32melse\u001b[0m\u001b[0;34m:\u001b[0m\u001b[0;34m\u001b[0m\u001b[0;34m\u001b[0m\u001b[0m\n\u001b[0;32m-> 1532\u001b[0;31m             \u001b[0;32mreturn\u001b[0m \u001b[0mself\u001b[0m\u001b[0;34m.\u001b[0m\u001b[0m_call_impl\u001b[0m\u001b[0;34m(\u001b[0m\u001b[0;34m*\u001b[0m\u001b[0margs\u001b[0m\u001b[0;34m,\u001b[0m \u001b[0;34m**\u001b[0m\u001b[0mkwargs\u001b[0m\u001b[0;34m)\u001b[0m\u001b[0;34m\u001b[0m\u001b[0;34m\u001b[0m\u001b[0m\n\u001b[0m\u001b[1;32m   1533\u001b[0m \u001b[0;34m\u001b[0m\u001b[0m\n\u001b[1;32m   1534\u001b[0m     \u001b[0;32mdef\u001b[0m \u001b[0m_call_impl\u001b[0m\u001b[0;34m(\u001b[0m\u001b[0mself\u001b[0m\u001b[0;34m,\u001b[0m \u001b[0;34m*\u001b[0m\u001b[0margs\u001b[0m\u001b[0;34m,\u001b[0m \u001b[0;34m**\u001b[0m\u001b[0mkwargs\u001b[0m\u001b[0;34m)\u001b[0m\u001b[0;34m:\u001b[0m\u001b[0;34m\u001b[0m\u001b[0;34m\u001b[0m\u001b[0m\n",
            "\u001b[0;32m/usr/local/lib/python3.12/dist-packages/torch/nn/modules/module.py\u001b[0m in \u001b[0;36m_call_impl\u001b[0;34m(self, *args, **kwargs)\u001b[0m\n\u001b[1;32m   1539\u001b[0m                 \u001b[0;32mor\u001b[0m \u001b[0m_global_backward_pre_hooks\u001b[0m \u001b[0;32mor\u001b[0m \u001b[0m_global_backward_hooks\u001b[0m\u001b[0;34m\u001b[0m\u001b[0;34m\u001b[0m\u001b[0m\n\u001b[1;32m   1540\u001b[0m                 or _global_forward_hooks or _global_forward_pre_hooks):\n\u001b[0;32m-> 1541\u001b[0;31m             \u001b[0;32mreturn\u001b[0m \u001b[0mforward_call\u001b[0m\u001b[0;34m(\u001b[0m\u001b[0;34m*\u001b[0m\u001b[0margs\u001b[0m\u001b[0;34m,\u001b[0m \u001b[0;34m**\u001b[0m\u001b[0mkwargs\u001b[0m\u001b[0;34m)\u001b[0m\u001b[0;34m\u001b[0m\u001b[0;34m\u001b[0m\u001b[0m\n\u001b[0m\u001b[1;32m   1542\u001b[0m \u001b[0;34m\u001b[0m\u001b[0m\n\u001b[1;32m   1543\u001b[0m         \u001b[0;32mtry\u001b[0m\u001b[0;34m:\u001b[0m\u001b[0;34m\u001b[0m\u001b[0;34m\u001b[0m\u001b[0m\n",
            "\u001b[0;32m/usr/local/lib/python3.12/dist-packages/torch/nn/modules/conv.py\u001b[0m in \u001b[0;36mforward\u001b[0;34m(self, input)\u001b[0m\n\u001b[1;32m    458\u001b[0m \u001b[0;34m\u001b[0m\u001b[0m\n\u001b[1;32m    459\u001b[0m     \u001b[0;32mdef\u001b[0m \u001b[0mforward\u001b[0m\u001b[0;34m(\u001b[0m\u001b[0mself\u001b[0m\u001b[0;34m,\u001b[0m \u001b[0minput\u001b[0m\u001b[0;34m:\u001b[0m \u001b[0mTensor\u001b[0m\u001b[0;34m)\u001b[0m \u001b[0;34m->\u001b[0m \u001b[0mTensor\u001b[0m\u001b[0;34m:\u001b[0m\u001b[0;34m\u001b[0m\u001b[0;34m\u001b[0m\u001b[0m\n\u001b[0;32m--> 460\u001b[0;31m         \u001b[0;32mreturn\u001b[0m \u001b[0mself\u001b[0m\u001b[0;34m.\u001b[0m\u001b[0m_conv_forward\u001b[0m\u001b[0;34m(\u001b[0m\u001b[0minput\u001b[0m\u001b[0;34m,\u001b[0m \u001b[0mself\u001b[0m\u001b[0;34m.\u001b[0m\u001b[0mweight\u001b[0m\u001b[0;34m,\u001b[0m \u001b[0mself\u001b[0m\u001b[0;34m.\u001b[0m\u001b[0mbias\u001b[0m\u001b[0;34m)\u001b[0m\u001b[0;34m\u001b[0m\u001b[0;34m\u001b[0m\u001b[0m\n\u001b[0m\u001b[1;32m    461\u001b[0m \u001b[0;34m\u001b[0m\u001b[0m\n\u001b[1;32m    462\u001b[0m \u001b[0;32mclass\u001b[0m \u001b[0mConv3d\u001b[0m\u001b[0;34m(\u001b[0m\u001b[0m_ConvNd\u001b[0m\u001b[0;34m)\u001b[0m\u001b[0;34m:\u001b[0m\u001b[0;34m\u001b[0m\u001b[0;34m\u001b[0m\u001b[0m\n",
            "\u001b[0;32m/usr/local/lib/python3.12/dist-packages/torch/nn/modules/conv.py\u001b[0m in \u001b[0;36m_conv_forward\u001b[0;34m(self, input, weight, bias)\u001b[0m\n\u001b[1;32m    454\u001b[0m                             \u001b[0mweight\u001b[0m\u001b[0;34m,\u001b[0m \u001b[0mbias\u001b[0m\u001b[0;34m,\u001b[0m \u001b[0mself\u001b[0m\u001b[0;34m.\u001b[0m\u001b[0mstride\u001b[0m\u001b[0;34m,\u001b[0m\u001b[0;34m\u001b[0m\u001b[0;34m\u001b[0m\u001b[0m\n\u001b[1;32m    455\u001b[0m                             _pair(0), self.dilation, self.groups)\n\u001b[0;32m--> 456\u001b[0;31m         return F.conv2d(input, weight, bias, self.stride,\n\u001b[0m\u001b[1;32m    457\u001b[0m                         self.padding, self.dilation, self.groups)\n\u001b[1;32m    458\u001b[0m \u001b[0;34m\u001b[0m\u001b[0m\n",
            "\u001b[0;31mKeyboardInterrupt\u001b[0m: "
          ]
        }
      ]
    },
    {
      "cell_type": "code",
      "source": [
        "import IPython.display as ipd\n",
        "\n",
        "ipd.Audio(\"sample_9.wav\")"
      ],
      "metadata": {
        "colab": {
          "base_uri": "https://localhost:8080/",
          "height": 50
        },
        "id": "YScqBvPEpiGn",
        "outputId": "e433081e-0f73-49bc-da51-7bd21fee511e"
      },
      "execution_count": null,
      "outputs": [
        {
          "output_type": "execute_result",
          "data": {
            "text/plain": [
              "<IPython.lib.display.Audio object>"
            ],
            "text/html": [
              "\n",
              "                <audio  controls=\"controls\" >\n",
              "                    <source src=\"data:audio/x-wav;base64,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\" type=\"audio/x-wav\" />\n",
              "                    Your browser does not support the audio element.\n",
              "                </audio>\n",
              "              "
            ]
          },
          "metadata": {},
          "execution_count": 2
        }
      ]
    },
    {
      "cell_type": "code",
      "source": [
        "dataset"
      ],
      "metadata": {
        "colab": {
          "base_uri": "https://localhost:8080/",
          "height": 135
        },
        "id": "aI2LBjgY1ArS",
        "outputId": "933ba148-b568-495a-d77d-b9191c51ed65"
      },
      "execution_count": null,
      "outputs": [
        {
          "output_type": "error",
          "ename": "NameError",
          "evalue": "name 'dataset' is not defined",
          "traceback": [
            "\u001b[0;31m---------------------------------------------------------------------------\u001b[0m",
            "\u001b[0;31mNameError\u001b[0m                                 Traceback (most recent call last)",
            "\u001b[0;32m/tmp/ipython-input-48412968.py\u001b[0m in \u001b[0;36m<cell line: 0>\u001b[0;34m()\u001b[0m\n\u001b[0;32m----> 1\u001b[0;31m \u001b[0mdataset\u001b[0m\u001b[0;34m\u001b[0m\u001b[0;34m\u001b[0m\u001b[0m\n\u001b[0m",
            "\u001b[0;31mNameError\u001b[0m: name 'dataset' is not defined"
          ]
        }
      ]
    }
  ]
}